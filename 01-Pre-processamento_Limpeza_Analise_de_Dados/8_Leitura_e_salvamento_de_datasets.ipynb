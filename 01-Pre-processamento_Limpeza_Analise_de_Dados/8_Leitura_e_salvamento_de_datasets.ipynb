{
  "cells": [
    {
      "cell_type": "markdown",
      "metadata": {
        "id": "pyS1hMFwDzrX"
      },
      "source": [
        "# 8 - Leitura e salvamento de conjuntos de dados"
      ]
    },
    {
      "cell_type": "markdown",
      "metadata": {
        "id": "W_uKgMXbDzrf"
      },
      "source": [
        "## Lendo arquivos de texto puro"
      ]
    },
    {
      "cell_type": "markdown",
      "source": [
        "Abrindo arquivo de texto em modo de leitura e lendo o seu conteúdo "
      ],
      "metadata": {
        "id": "icnopAytFjnp"
      }
    },
    {
      "cell_type": "code",
      "execution_count": 1,
      "metadata": {
        "id": "dTCYIKHpDzrg"
      },
      "outputs": [],
      "source": [
        "filename = 'huck_finn.txt'\n",
        "\n",
        "file = open(filename, mode='r')\n",
        "text = file.read()\n",
        "\n",
        "file.close()"
      ]
    },
    {
      "cell_type": "code",
      "execution_count": 2,
      "metadata": {
        "colab": {
          "base_uri": "https://localhost:8080/"
        },
        "id": "rlvG7mNxDzrk",
        "outputId": "ce911c50-5d7d-4ef0-ec49-c1b3003185eb"
      },
      "outputs": [
        {
          "output_type": "stream",
          "name": "stdout",
          "text": [
            "YOU don't know about me without you have read a book by the name of The Adventures of Tom Sawyer; but that ain't no matter. That book was made by Mr. Mark Twain, and he told the truth, mainly. There was things which he stretched, but mainly he told the truth. That is nothing. I never seen anybody but lied one time or another, without it was Aunt Polly, or the widow, or maybe Mary. Aunt Polly--Tom's Aunt Polly, she is--and Mary, and the Widow Douglas is all told about in that book, which is mostly a true book, with some stretchers, as I said before.\n"
          ]
        }
      ],
      "source": [
        "print(text)"
      ]
    },
    {
      "cell_type": "markdown",
      "metadata": {
        "id": "Z8Gqqb5cDzrp"
      },
      "source": [
        "## Criando um contexto para leitura de arquivos"
      ]
    },
    {
      "cell_type": "markdown",
      "source": [
        "Abrindo arquivo de texto em modo de leitura e lendo o seu conteúdo através da criação de um contexto"
      ],
      "metadata": {
        "id": "n_mT4478GRu3"
      }
    },
    {
      "cell_type": "code",
      "execution_count": 3,
      "metadata": {
        "colab": {
          "base_uri": "https://localhost:8080/"
        },
        "id": "BZb1eaidDzrq",
        "outputId": "1675f181-9802-45f4-ac46-1254f353d8bc"
      },
      "outputs": [
        {
          "output_type": "stream",
          "name": "stdout",
          "text": [
            "YOU don't know about me without you have read a book by the name of The Adventures of Tom Sawyer; but that ain't no matter. That book was made by Mr. Mark Twain, and he told the truth, mainly. There was things which he stretched, but mainly he told the truth. That is nothing. I never seen anybody but lied one time or another, without it was Aunt Polly, or the widow, or maybe Mary. Aunt Polly--Tom's Aunt Polly, she is--and Mary, and the Widow Douglas is all told about in that book, which is mostly a true book, with some stretchers, as I said before.\n"
          ]
        }
      ],
      "source": [
        "with open('huck_finn.txt', 'r') as file:\n",
        "    print(file.read())"
      ]
    },
    {
      "cell_type": "markdown",
      "metadata": {
        "id": "fGBQSOb9Dzrs"
      },
      "source": [
        "## Importando dados com o Numpy"
      ]
    },
    {
      "cell_type": "markdown",
      "source": [
        "Criando um array 'data' a partir de um arquivo de texto usando o método loadtxt\n",
        "\n",
        "O argumento delimiter = ' , ' indica que os dados estão separados por vírgula"
      ],
      "metadata": {
        "id": "CzIX9uMSHQOO"
      }
    },
    {
      "cell_type": "code",
      "execution_count": 4,
      "metadata": {
        "colab": {
          "base_uri": "https://localhost:8080/"
        },
        "id": "4WphIpZvDzrt",
        "outputId": "9e4da4a0-40c7-405d-9110-18b39c96d958"
      },
      "outputs": [
        {
          "output_type": "execute_result",
          "data": {
            "text/plain": [
              "array([[1., 0., 0., ..., 0., 0., 0.],\n",
              "       [0., 0., 0., ..., 0., 0., 0.],\n",
              "       [1., 0., 0., ..., 0., 0., 0.],\n",
              "       ...,\n",
              "       [2., 0., 0., ..., 0., 0., 0.],\n",
              "       [0., 0., 0., ..., 0., 0., 0.],\n",
              "       [5., 0., 0., ..., 0., 0., 0.]])"
            ]
          },
          "metadata": {},
          "execution_count": 4
        }
      ],
      "source": [
        "import numpy as np\n",
        "\n",
        "filename = 'MNIST.txt'\n",
        "\n",
        "data = np.loadtxt(filename, delimiter=',')\n",
        "data"
      ]
    },
    {
      "cell_type": "markdown",
      "source": [
        "Criando um array 'data' a partir de um arquivo de texto usando o método loadtxt\n",
        "\n",
        "O argumento delimiter = ' , ' indica que os dados estão separados por vírgula\n",
        "\n",
        "O argumento skiprows = 1 indica que a primeira linha do arquivo de texto deve ser pulada\n",
        "\n",
        "Dessa forma, a primeira linha do arquivo de texto não está contida no array"
      ],
      "metadata": {
        "id": "KLZGdbGJIB9d"
      }
    },
    {
      "cell_type": "code",
      "execution_count": 5,
      "metadata": {
        "id": "Bp0tV_LmDzrv"
      },
      "outputs": [],
      "source": [
        "data = np.loadtxt(filename, delimiter=',', skiprows=1)"
      ]
    },
    {
      "cell_type": "code",
      "execution_count": 6,
      "metadata": {
        "colab": {
          "base_uri": "https://localhost:8080/"
        },
        "id": "HdJ2nhJaDzrx",
        "outputId": "19bf9572-6f95-468c-d087-baa2509e12a4"
      },
      "outputs": [
        {
          "output_type": "stream",
          "name": "stdout",
          "text": [
            "[[0. 0. 0. ... 0. 0. 0.]\n",
            " [1. 0. 0. ... 0. 0. 0.]\n",
            " [4. 0. 0. ... 0. 0. 0.]\n",
            " ...\n",
            " [2. 0. 0. ... 0. 0. 0.]\n",
            " [0. 0. 0. ... 0. 0. 0.]\n",
            " [5. 0. 0. ... 0. 0. 0.]]\n"
          ]
        }
      ],
      "source": [
        "print(data)"
      ]
    },
    {
      "cell_type": "markdown",
      "source": [
        "Criando um array 'data' a partir de um arquivo de texto usando o método loadtxt\n",
        "\n",
        "O argumento delimiter = ' , ' indica que os dados estão separados por vírgula\n",
        "\n",
        "O argumento skiprows = 1 indica que a primeira linha do arquivo de texto deve ser pulada\n",
        "\n",
        "Dessa forma, a primeira linha do arquivo de texto não está contida no array\n",
        "\n",
        "O argumento usecols = [0,2] indica que apenas a primeira e a terceira colunas do arquivo de texto devem ser consideradas\n",
        "\n",
        "Dessa forma, o array apenas contém a primeira e a terceira colunas do arquivo de texto"
      ],
      "metadata": {
        "id": "YBb1yuBLIhyK"
      }
    },
    {
      "cell_type": "code",
      "execution_count": 7,
      "metadata": {
        "colab": {
          "base_uri": "https://localhost:8080/"
        },
        "id": "Ajk7LGx1Dzrz",
        "outputId": "b9c5e9bc-dd54-4d12-9570-2514659734be"
      },
      "outputs": [
        {
          "output_type": "execute_result",
          "data": {
            "text/plain": [
              "array([[0., 0.],\n",
              "       [1., 0.],\n",
              "       [4., 0.],\n",
              "       [0., 0.],\n",
              "       [0., 0.],\n",
              "       [7., 0.],\n",
              "       [3., 0.],\n",
              "       [5., 0.],\n",
              "       [3., 0.],\n",
              "       [8., 0.],\n",
              "       [9., 0.],\n",
              "       [1., 0.],\n",
              "       [3., 0.],\n",
              "       [3., 0.],\n",
              "       [1., 0.],\n",
              "       [2., 0.],\n",
              "       [0., 0.],\n",
              "       [7., 0.],\n",
              "       [5., 0.],\n",
              "       [8., 0.],\n",
              "       [6., 0.],\n",
              "       [2., 0.],\n",
              "       [0., 0.],\n",
              "       [2., 0.],\n",
              "       [3., 0.],\n",
              "       [6., 0.],\n",
              "       [9., 0.],\n",
              "       [9., 0.],\n",
              "       [7., 0.],\n",
              "       [8., 0.],\n",
              "       [9., 0.],\n",
              "       [4., 0.],\n",
              "       [9., 0.],\n",
              "       [2., 0.],\n",
              "       [1., 0.],\n",
              "       [3., 0.],\n",
              "       [1., 0.],\n",
              "       [1., 0.],\n",
              "       [4., 0.],\n",
              "       [9., 0.],\n",
              "       [1., 0.],\n",
              "       [4., 0.],\n",
              "       [4., 0.],\n",
              "       [2., 0.],\n",
              "       [6., 0.],\n",
              "       [3., 0.],\n",
              "       [7., 0.],\n",
              "       [7., 0.],\n",
              "       [4., 0.],\n",
              "       [7., 0.],\n",
              "       [5., 0.],\n",
              "       [1., 0.],\n",
              "       [9., 0.],\n",
              "       [0., 0.],\n",
              "       [2., 0.],\n",
              "       [2., 0.],\n",
              "       [3., 0.],\n",
              "       [9., 0.],\n",
              "       [1., 0.],\n",
              "       [1., 0.],\n",
              "       [1., 0.],\n",
              "       [5., 0.],\n",
              "       [0., 0.],\n",
              "       [6., 0.],\n",
              "       [3., 0.],\n",
              "       [4., 0.],\n",
              "       [8., 0.],\n",
              "       [1., 0.],\n",
              "       [0., 0.],\n",
              "       [3., 0.],\n",
              "       [9., 0.],\n",
              "       [6., 0.],\n",
              "       [2., 0.],\n",
              "       [6., 0.],\n",
              "       [4., 0.],\n",
              "       [7., 0.],\n",
              "       [1., 0.],\n",
              "       [4., 0.],\n",
              "       [1., 0.],\n",
              "       [5., 0.],\n",
              "       [4., 0.],\n",
              "       [8., 0.],\n",
              "       [9., 0.],\n",
              "       [2., 0.],\n",
              "       [9., 0.],\n",
              "       [9., 0.],\n",
              "       [8., 0.],\n",
              "       [9., 0.],\n",
              "       [6., 0.],\n",
              "       [3., 0.],\n",
              "       [6., 0.],\n",
              "       [4., 0.],\n",
              "       [6., 0.],\n",
              "       [2., 0.],\n",
              "       [9., 0.],\n",
              "       [1., 0.],\n",
              "       [2., 0.],\n",
              "       [0., 0.],\n",
              "       [5., 0.]])"
            ]
          },
          "metadata": {},
          "execution_count": 7
        }
      ],
      "source": [
        "data = np.loadtxt(filename, delimiter=',', skiprows=1, usecols=[0,2])\n",
        "data"
      ]
    },
    {
      "cell_type": "markdown",
      "source": [
        "Criando um array 'data' a partir de um arquivo de texto usando o método loadtxt\n",
        "\n",
        "O argumento delimiter = ' , ' indica que os dados estão separados por vírgula\n",
        "\n",
        "O argumento dtype=str indica que o tipo dos elementos do array deve ser str(ou seja, string)\n",
        "\n",
        "Dessa forma, os dados do arquivo de texto são convertidos para str quando passados para o array"
      ],
      "metadata": {
        "id": "-jfph_c5Jf6a"
      }
    },
    {
      "cell_type": "code",
      "execution_count": 8,
      "metadata": {
        "colab": {
          "base_uri": "https://localhost:8080/"
        },
        "id": "GVxWigzfDzr0",
        "outputId": "db1d4081-e586-4031-e493-9ad828621eb1"
      },
      "outputs": [
        {
          "output_type": "stream",
          "name": "stdout",
          "text": [
            "[['1.0' '0.0' '0.0' ... '0.0' '0.0' '0.0']\n",
            " ['0.0' '0.0' '0.0' ... '0.0' '0.0' '0.0']\n",
            " ['1.0' '0.0' '0.0' ... '0.0' '0.0' '0.0']\n",
            " ...\n",
            " ['2.0' '0.0' '0.0' ... '0.0' '0.0' '0.0']\n",
            " ['0.0' '0.0' '0.0' ... '0.0' '0.0' '0.0']\n",
            " ['5.0' '0.0' '0.0' ... '0.0' '0.0' '0.0']]\n"
          ]
        }
      ],
      "source": [
        "data = np.loadtxt(filename, delimiter=',', dtype=str)\n",
        "print(data)"
      ]
    },
    {
      "cell_type": "markdown",
      "metadata": {
        "id": "wPgDd_5CDzr1"
      },
      "source": [
        "## Importando arquivos utilizando o Pandas"
      ]
    },
    {
      "cell_type": "markdown",
      "metadata": {
        "id": "dAz5G5iHDzr3"
      },
      "source": [
        "Em geral, um cientista de dados precisa lidar com\n",
        "- Estruturas de dados bidimensionais, rotuladas,\n",
        "- Colunas com tipos potencialmente diferentes,\n",
        "- Manipulação, fatiamento, reformar, agrupar, juntar,\n",
        "- Realizar estatísticas,\n",
        "- Trabalhar com dados de séries temporais,\n",
        "- ..."
      ]
    },
    {
      "cell_type": "markdown",
      "source": [
        "Criando um DataFrame 'data' a partir de um arquivo csv usando o método read_csv\n",
        "\n",
        "Usando o método head, conseguimos obter as 5 primeiras linhas do DataFrame (já que essa é a quantidade padrão)\n",
        "\n",
        "Poderíamos também especificar a quantidade de linhas que queremos"
      ],
      "metadata": {
        "id": "eC00MrlGRlKA"
      }
    },
    {
      "cell_type": "code",
      "execution_count": 12,
      "metadata": {
        "colab": {
          "base_uri": "https://localhost:8080/",
          "height": 267
        },
        "id": "MmRfpC-VDzr4",
        "outputId": "fec635b5-8a27-4807-bf3c-6e8ae73233fe"
      },
      "outputs": [
        {
          "output_type": "execute_result",
          "data": {
            "text/plain": [
              "   fixed acidity  volatile acidity  citric acid  residual sugar  chlorides  \\\n",
              "0            7.4              0.70         0.00             1.9      0.076   \n",
              "1            7.8              0.88         0.00             2.6      0.098   \n",
              "2            7.8              0.76         0.04             2.3      0.092   \n",
              "3           11.2              0.28         0.56             1.9      0.075   \n",
              "4            7.4              0.70         0.00             1.9      0.076   \n",
              "\n",
              "   free sulfur dioxide  total sulfur dioxide  density    pH  sulphates  \\\n",
              "0                 11.0                  34.0   0.9978  3.51       0.56   \n",
              "1                 25.0                  67.0   0.9968  3.20       0.68   \n",
              "2                 15.0                  54.0   0.9970  3.26       0.65   \n",
              "3                 17.0                  60.0   0.9980  3.16       0.58   \n",
              "4                 11.0                  34.0   0.9978  3.51       0.56   \n",
              "\n",
              "   alcohol  quality  \n",
              "0      9.4        5  \n",
              "1      9.8        5  \n",
              "2      9.8        5  \n",
              "3      9.8        6  \n",
              "4      9.4        5  "
            ],
            "text/html": [
              "\n",
              "  <div id=\"df-20f94328-f10f-4bba-b59b-576b6e66523f\">\n",
              "    <div class=\"colab-df-container\">\n",
              "      <div>\n",
              "<style scoped>\n",
              "    .dataframe tbody tr th:only-of-type {\n",
              "        vertical-align: middle;\n",
              "    }\n",
              "\n",
              "    .dataframe tbody tr th {\n",
              "        vertical-align: top;\n",
              "    }\n",
              "\n",
              "    .dataframe thead th {\n",
              "        text-align: right;\n",
              "    }\n",
              "</style>\n",
              "<table border=\"1\" class=\"dataframe\">\n",
              "  <thead>\n",
              "    <tr style=\"text-align: right;\">\n",
              "      <th></th>\n",
              "      <th>fixed acidity</th>\n",
              "      <th>volatile acidity</th>\n",
              "      <th>citric acid</th>\n",
              "      <th>residual sugar</th>\n",
              "      <th>chlorides</th>\n",
              "      <th>free sulfur dioxide</th>\n",
              "      <th>total sulfur dioxide</th>\n",
              "      <th>density</th>\n",
              "      <th>pH</th>\n",
              "      <th>sulphates</th>\n",
              "      <th>alcohol</th>\n",
              "      <th>quality</th>\n",
              "    </tr>\n",
              "  </thead>\n",
              "  <tbody>\n",
              "    <tr>\n",
              "      <th>0</th>\n",
              "      <td>7.4</td>\n",
              "      <td>0.70</td>\n",
              "      <td>0.00</td>\n",
              "      <td>1.9</td>\n",
              "      <td>0.076</td>\n",
              "      <td>11.0</td>\n",
              "      <td>34.0</td>\n",
              "      <td>0.9978</td>\n",
              "      <td>3.51</td>\n",
              "      <td>0.56</td>\n",
              "      <td>9.4</td>\n",
              "      <td>5</td>\n",
              "    </tr>\n",
              "    <tr>\n",
              "      <th>1</th>\n",
              "      <td>7.8</td>\n",
              "      <td>0.88</td>\n",
              "      <td>0.00</td>\n",
              "      <td>2.6</td>\n",
              "      <td>0.098</td>\n",
              "      <td>25.0</td>\n",
              "      <td>67.0</td>\n",
              "      <td>0.9968</td>\n",
              "      <td>3.20</td>\n",
              "      <td>0.68</td>\n",
              "      <td>9.8</td>\n",
              "      <td>5</td>\n",
              "    </tr>\n",
              "    <tr>\n",
              "      <th>2</th>\n",
              "      <td>7.8</td>\n",
              "      <td>0.76</td>\n",
              "      <td>0.04</td>\n",
              "      <td>2.3</td>\n",
              "      <td>0.092</td>\n",
              "      <td>15.0</td>\n",
              "      <td>54.0</td>\n",
              "      <td>0.9970</td>\n",
              "      <td>3.26</td>\n",
              "      <td>0.65</td>\n",
              "      <td>9.8</td>\n",
              "      <td>5</td>\n",
              "    </tr>\n",
              "    <tr>\n",
              "      <th>3</th>\n",
              "      <td>11.2</td>\n",
              "      <td>0.28</td>\n",
              "      <td>0.56</td>\n",
              "      <td>1.9</td>\n",
              "      <td>0.075</td>\n",
              "      <td>17.0</td>\n",
              "      <td>60.0</td>\n",
              "      <td>0.9980</td>\n",
              "      <td>3.16</td>\n",
              "      <td>0.58</td>\n",
              "      <td>9.8</td>\n",
              "      <td>6</td>\n",
              "    </tr>\n",
              "    <tr>\n",
              "      <th>4</th>\n",
              "      <td>7.4</td>\n",
              "      <td>0.70</td>\n",
              "      <td>0.00</td>\n",
              "      <td>1.9</td>\n",
              "      <td>0.076</td>\n",
              "      <td>11.0</td>\n",
              "      <td>34.0</td>\n",
              "      <td>0.9978</td>\n",
              "      <td>3.51</td>\n",
              "      <td>0.56</td>\n",
              "      <td>9.4</td>\n",
              "      <td>5</td>\n",
              "    </tr>\n",
              "  </tbody>\n",
              "</table>\n",
              "</div>\n",
              "      <button class=\"colab-df-convert\" onclick=\"convertToInteractive('df-20f94328-f10f-4bba-b59b-576b6e66523f')\"\n",
              "              title=\"Convert this dataframe to an interactive table.\"\n",
              "              style=\"display:none;\">\n",
              "        \n",
              "  <svg xmlns=\"http://www.w3.org/2000/svg\" height=\"24px\"viewBox=\"0 0 24 24\"\n",
              "       width=\"24px\">\n",
              "    <path d=\"M0 0h24v24H0V0z\" fill=\"none\"/>\n",
              "    <path d=\"M18.56 5.44l.94 2.06.94-2.06 2.06-.94-2.06-.94-.94-2.06-.94 2.06-2.06.94zm-11 1L8.5 8.5l.94-2.06 2.06-.94-2.06-.94L8.5 2.5l-.94 2.06-2.06.94zm10 10l.94 2.06.94-2.06 2.06-.94-2.06-.94-.94-2.06-.94 2.06-2.06.94z\"/><path d=\"M17.41 7.96l-1.37-1.37c-.4-.4-.92-.59-1.43-.59-.52 0-1.04.2-1.43.59L10.3 9.45l-7.72 7.72c-.78.78-.78 2.05 0 2.83L4 21.41c.39.39.9.59 1.41.59.51 0 1.02-.2 1.41-.59l7.78-7.78 2.81-2.81c.8-.78.8-2.07 0-2.86zM5.41 20L4 18.59l7.72-7.72 1.47 1.35L5.41 20z\"/>\n",
              "  </svg>\n",
              "      </button>\n",
              "      \n",
              "  <style>\n",
              "    .colab-df-container {\n",
              "      display:flex;\n",
              "      flex-wrap:wrap;\n",
              "      gap: 12px;\n",
              "    }\n",
              "\n",
              "    .colab-df-convert {\n",
              "      background-color: #E8F0FE;\n",
              "      border: none;\n",
              "      border-radius: 50%;\n",
              "      cursor: pointer;\n",
              "      display: none;\n",
              "      fill: #1967D2;\n",
              "      height: 32px;\n",
              "      padding: 0 0 0 0;\n",
              "      width: 32px;\n",
              "    }\n",
              "\n",
              "    .colab-df-convert:hover {\n",
              "      background-color: #E2EBFA;\n",
              "      box-shadow: 0px 1px 2px rgba(60, 64, 67, 0.3), 0px 1px 3px 1px rgba(60, 64, 67, 0.15);\n",
              "      fill: #174EA6;\n",
              "    }\n",
              "\n",
              "    [theme=dark] .colab-df-convert {\n",
              "      background-color: #3B4455;\n",
              "      fill: #D2E3FC;\n",
              "    }\n",
              "\n",
              "    [theme=dark] .colab-df-convert:hover {\n",
              "      background-color: #434B5C;\n",
              "      box-shadow: 0px 1px 3px 1px rgba(0, 0, 0, 0.15);\n",
              "      filter: drop-shadow(0px 1px 2px rgba(0, 0, 0, 0.3));\n",
              "      fill: #FFFFFF;\n",
              "    }\n",
              "  </style>\n",
              "\n",
              "      <script>\n",
              "        const buttonEl =\n",
              "          document.querySelector('#df-20f94328-f10f-4bba-b59b-576b6e66523f button.colab-df-convert');\n",
              "        buttonEl.style.display =\n",
              "          google.colab.kernel.accessAllowed ? 'block' : 'none';\n",
              "\n",
              "        async function convertToInteractive(key) {\n",
              "          const element = document.querySelector('#df-20f94328-f10f-4bba-b59b-576b6e66523f');\n",
              "          const dataTable =\n",
              "            await google.colab.kernel.invokeFunction('convertToInteractive',\n",
              "                                                     [key], {});\n",
              "          if (!dataTable) return;\n",
              "\n",
              "          const docLinkHtml = 'Like what you see? Visit the ' +\n",
              "            '<a target=\"_blank\" href=https://colab.research.google.com/notebooks/data_table.ipynb>data table notebook</a>'\n",
              "            + ' to learn more about interactive tables.';\n",
              "          element.innerHTML = '';\n",
              "          dataTable['output_type'] = 'display_data';\n",
              "          await google.colab.output.renderOutput(dataTable, element);\n",
              "          const docLink = document.createElement('div');\n",
              "          docLink.innerHTML = docLinkHtml;\n",
              "          element.appendChild(docLink);\n",
              "        }\n",
              "      </script>\n",
              "    </div>\n",
              "  </div>\n",
              "  "
            ]
          },
          "metadata": {},
          "execution_count": 12
        }
      ],
      "source": [
        "import pandas as pd\n",
        "\n",
        "filename = 'winequality-red.csv'\n",
        "\n",
        "data = pd.read_csv(filename)\n",
        "\n",
        "data.head()"
      ]
    },
    {
      "cell_type": "markdown",
      "source": [
        "Criando um array 'data_array' a partir do DataFrame 'data' usando o atributo values\n",
        "\n",
        "Como podemos perceber, o DataFrame 'data' tem muito mais do que 5 linhas, mas o método head apenas pega as 5 primeiras linhas por padrão"
      ],
      "metadata": {
        "id": "lG1b7bYESUa-"
      }
    },
    {
      "cell_type": "code",
      "execution_count": 10,
      "metadata": {
        "colab": {
          "base_uri": "https://localhost:8080/"
        },
        "id": "Cwuh8R5KDzr6",
        "outputId": "80c3f4f1-175c-401d-a9e0-d04bbb4955df"
      },
      "outputs": [
        {
          "output_type": "execute_result",
          "data": {
            "text/plain": [
              "array([[ 7.4  ,  0.7  ,  0.   , ...,  0.56 ,  9.4  ,  5.   ],\n",
              "       [ 7.8  ,  0.88 ,  0.   , ...,  0.68 ,  9.8  ,  5.   ],\n",
              "       [ 7.8  ,  0.76 ,  0.04 , ...,  0.65 ,  9.8  ,  5.   ],\n",
              "       ...,\n",
              "       [ 6.3  ,  0.51 ,  0.13 , ...,  0.75 , 11.   ,  6.   ],\n",
              "       [ 5.9  ,  0.645,  0.12 , ...,  0.71 , 10.2  ,  5.   ],\n",
              "       [ 6.   ,  0.31 ,  0.47 , ...,  0.66 , 11.   ,  6.   ]])"
            ]
          },
          "metadata": {},
          "execution_count": 10
        }
      ],
      "source": [
        "data_array = data.values\n",
        "data_array"
      ]
    }
  ],
  "metadata": {
    "kernelspec": {
      "display_name": "Python 3",
      "language": "python",
      "name": "python3"
    },
    "language_info": {
      "codemirror_mode": {
        "name": "ipython",
        "version": 3
      },
      "file_extension": ".py",
      "mimetype": "text/x-python",
      "name": "python",
      "nbconvert_exporter": "python",
      "pygments_lexer": "ipython3",
      "version": "3.6.8"
    },
    "colab": {
      "provenance": []
    }
  },
  "nbformat": 4,
  "nbformat_minor": 0
}