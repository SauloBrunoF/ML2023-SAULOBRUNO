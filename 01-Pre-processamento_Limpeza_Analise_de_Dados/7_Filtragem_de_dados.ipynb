{
  "cells": [
    {
      "cell_type": "markdown",
      "metadata": {
        "id": "-f9xHqx3YRY2"
      },
      "source": [
        "# 7 - Filtragem de dados\n",
        "Filtragem de dados é uma tarefa importantíssima na vida de qualquer cientista de dados. Nessa seção, veremos como criar filtros em um conjunto de dados utilizando o Pandas."
      ]
    },
    {
      "cell_type": "markdown",
      "metadata": {
        "id": "VB9NbDqCYRY6"
      },
      "source": [
        "## Operadores booleanos"
      ]
    },
    {
      "cell_type": "markdown",
      "metadata": {
        "id": "vG1NuXlkYRY6"
      },
      "source": [
        "### and"
      ]
    },
    {
      "cell_type": "markdown",
      "source": [
        "Criando uma expressão booleana usando o operador booleano and, a qual retorna True, pois 12 é maior que 5 e também é menor que 15 (ou seja, as duas condições são verdadeiras)"
      ],
      "metadata": {
        "id": "ttphFkZLalAz"
      }
    },
    {
      "cell_type": "code",
      "execution_count": 1,
      "metadata": {
        "id": "xqSEfTxkYRY6"
      },
      "outputs": [],
      "source": [
        "x = 12"
      ]
    },
    {
      "cell_type": "code",
      "execution_count": 2,
      "metadata": {
        "colab": {
          "base_uri": "https://localhost:8080/"
        },
        "id": "v13SkfvRYRY7",
        "outputId": "12ba0e3f-c2b1-4c5f-9858-8c3febd7153b"
      },
      "outputs": [
        {
          "output_type": "execute_result",
          "data": {
            "text/plain": [
              "True"
            ]
          },
          "metadata": {},
          "execution_count": 2
        }
      ],
      "source": [
        "x > 5 and x < 15"
      ]
    },
    {
      "cell_type": "markdown",
      "source": [
        "Criando uma expressão booleana usando o operador booleano or, a qual retorna True, pois 5 é menor que 7(ou seja, pelo menos uma das condições é verdadeira)"
      ],
      "metadata": {
        "id": "e6qRNCBvbuQ-"
      }
    },
    {
      "cell_type": "markdown",
      "metadata": {
        "id": "w34srE2SYRY8"
      },
      "source": [
        "### or"
      ]
    },
    {
      "cell_type": "code",
      "execution_count": 4,
      "metadata": {
        "id": "aAzZe5V4YRY8"
      },
      "outputs": [],
      "source": [
        "y = 5"
      ]
    },
    {
      "cell_type": "code",
      "execution_count": 5,
      "metadata": {
        "colab": {
          "base_uri": "https://localhost:8080/"
        },
        "id": "rBmCiy2mYRY9",
        "outputId": "85e223e3-94db-41ae-8e48-627e591b2919"
      },
      "outputs": [
        {
          "output_type": "execute_result",
          "data": {
            "text/plain": [
              "True"
            ]
          },
          "metadata": {},
          "execution_count": 5
        }
      ],
      "source": [
        "y < 7 or y > 13"
      ]
    },
    {
      "cell_type": "markdown",
      "metadata": {
        "id": "mTAo8jwgYRY9"
      },
      "source": [
        "### not"
      ]
    },
    {
      "cell_type": "markdown",
      "source": [
        "O operador booleano not reverte valores booleanos\n",
        "\n",
        "Dessa forma, True se torna False e False se torna True"
      ],
      "metadata": {
        "id": "otvY3KnTeg2y"
      }
    },
    {
      "cell_type": "code",
      "execution_count": 9,
      "metadata": {
        "colab": {
          "base_uri": "https://localhost:8080/"
        },
        "id": "5Uew5xO9YRY9",
        "outputId": "efbae058-2dcb-4fd1-9d4b-21fbf8f8700c"
      },
      "outputs": [
        {
          "output_type": "execute_result",
          "data": {
            "text/plain": [
              "False"
            ]
          },
          "metadata": {},
          "execution_count": 9
        }
      ],
      "source": [
        "not True"
      ]
    },
    {
      "cell_type": "code",
      "execution_count": 10,
      "metadata": {
        "colab": {
          "base_uri": "https://localhost:8080/"
        },
        "id": "M1GKyB7pYRY9",
        "outputId": "be0948c6-b34e-4828-dfab-544cf634f8b4"
      },
      "outputs": [
        {
          "output_type": "execute_result",
          "data": {
            "text/plain": [
              "True"
            ]
          },
          "metadata": {},
          "execution_count": 10
        }
      ],
      "source": [
        "not False"
      ]
    },
    {
      "cell_type": "markdown",
      "metadata": {
        "id": "bqusj-5MYRY-"
      },
      "source": [
        "### Numpy"
      ]
    },
    {
      "cell_type": "markdown",
      "source": [
        "Criando os arrays 'np_height' e 'np_weight' e usando eles para calcular o IMC, salvando os resultados no array 'bmi'"
      ],
      "metadata": {
        "id": "DTEBCE0RfK-a"
      }
    },
    {
      "cell_type": "code",
      "execution_count": 17,
      "metadata": {
        "colab": {
          "base_uri": "https://localhost:8080/"
        },
        "id": "OMbD-2baYRY-",
        "outputId": "b30e7d66-fbfa-4f0e-cf30-892b430f8372"
      },
      "outputs": [
        {
          "output_type": "execute_result",
          "data": {
            "text/plain": [
              "array([21.85171573, 20.97505669, 21.75028214, 24.7473475 , 21.44127836])"
            ]
          },
          "metadata": {},
          "execution_count": 17
        }
      ],
      "source": [
        "import numpy as np\n",
        "\n",
        "np_height = np.array([1.73, 1.68, 1.71, 1.89, 1.79])\n",
        "np_weight = np.array([65.4, 59.2, 63.6, 88.4, 68.7])\n",
        "bmi = np_weight / np_height ** 2\n",
        "\n",
        "bmi"
      ]
    },
    {
      "cell_type": "markdown",
      "source": [
        "Usando um array em uma expressão booleana, temos como resultado um array que contém True ou False como seus elementos, dependendo se o elemento daquele índice no array original atende a condição especificada ou não"
      ],
      "metadata": {
        "id": "Dz5aPVzkfkHq"
      }
    },
    {
      "cell_type": "code",
      "execution_count": 13,
      "metadata": {
        "colab": {
          "base_uri": "https://localhost:8080/"
        },
        "id": "BSSirD7HYRY-",
        "outputId": "e2c757af-8006-4688-9a22-4776d65375fd"
      },
      "outputs": [
        {
          "output_type": "execute_result",
          "data": {
            "text/plain": [
              "array([ True, False,  True,  True,  True])"
            ]
          },
          "metadata": {},
          "execution_count": 13
        }
      ],
      "source": [
        "bmi > 21"
      ]
    },
    {
      "cell_type": "markdown",
      "source": [
        "Não podemos usar o operador booleano and com arrays com mais de um elemento, pois eles contêm um conjunto de valores verdade, o que torna a operação ambígua (já que o operador and retorna apenas True ou False e não um array)"
      ],
      "metadata": {
        "id": "KiORD0tNr4Hc"
      }
    },
    {
      "cell_type": "code",
      "execution_count": 20,
      "metadata": {
        "colab": {
          "base_uri": "https://localhost:8080/",
          "height": 165
        },
        "id": "uI_QTgexYRY_",
        "outputId": "70cb94ac-8d4b-4e54-f509-96ecf1f0124a"
      },
      "outputs": [
        {
          "output_type": "error",
          "ename": "ValueError",
          "evalue": "ignored",
          "traceback": [
            "\u001b[0;31m---------------------------------------------------------------------------\u001b[0m",
            "\u001b[0;31mValueError\u001b[0m                                Traceback (most recent call last)",
            "\u001b[0;32m<ipython-input-20-435b0705294e>\u001b[0m in \u001b[0;36m<module>\u001b[0;34m\u001b[0m\n\u001b[0;32m----> 1\u001b[0;31m \u001b[0mbmi\u001b[0m \u001b[0;34m>\u001b[0m \u001b[0;36m21\u001b[0m \u001b[0;32mand\u001b[0m \u001b[0mbmi\u001b[0m \u001b[0;34m<\u001b[0m \u001b[0;36m22\u001b[0m\u001b[0;34m\u001b[0m\u001b[0;34m\u001b[0m\u001b[0m\n\u001b[0m",
            "\u001b[0;31mValueError\u001b[0m: The truth value of an array with more than one element is ambiguous. Use a.any() or a.all()"
          ]
        }
      ],
      "source": [
        "bmi > 21 and bmi < 22"
      ]
    },
    {
      "cell_type": "markdown",
      "source": [
        "Usando o método logical_and, é possível retornar um array cujos elementos são valores booleanos, dependendo se o elemento daquele determinado índice no array original atende a ambas as condições"
      ],
      "metadata": {
        "id": "RvAibsqOsot_"
      }
    },
    {
      "cell_type": "code",
      "execution_count": 21,
      "metadata": {
        "colab": {
          "base_uri": "https://localhost:8080/"
        },
        "id": "VJJXz229YRY_",
        "outputId": "616e9d4f-d6bb-47f2-9376-bcd74f45396e"
      },
      "outputs": [
        {
          "output_type": "execute_result",
          "data": {
            "text/plain": [
              "array([ True, False,  True, False,  True])"
            ]
          },
          "metadata": {},
          "execution_count": 21
        }
      ],
      "source": [
        "np.logical_and(bmi > 21, bmi < 22)"
      ]
    },
    {
      "cell_type": "markdown",
      "source": [
        "Usando o array de valores booleanos obtido com o método logical_and, é possível obter um novo array apenas com os elementos do array original que atendem a ambas as condições\n",
        "\n",
        "Para isso, basta passar o array de valores booleanos entre [ ] para o array original"
      ],
      "metadata": {
        "id": "lZmomRcQto-0"
      }
    },
    {
      "cell_type": "code",
      "execution_count": 24,
      "metadata": {
        "colab": {
          "base_uri": "https://localhost:8080/"
        },
        "id": "LSQfYSxNYRY_",
        "outputId": "c6ecda79-a8da-44ef-a6a7-2ae5f8ba7bbc"
      },
      "outputs": [
        {
          "output_type": "execute_result",
          "data": {
            "text/plain": [
              "array([21.85171573, 21.75028214, 21.44127836])"
            ]
          },
          "metadata": {},
          "execution_count": 24
        }
      ],
      "source": [
        "bmi[np.logical_and(bmi > 21, bmi < 22)]"
      ]
    },
    {
      "cell_type": "markdown",
      "metadata": {
        "id": "XN09ysCNYRZA"
      },
      "source": [
        "## Filtrando um DataFrame Pandas"
      ]
    },
    {
      "cell_type": "markdown",
      "source": [
        "Criando um DataFrame 'brics' a partir de um arquivo csv usando o método read_csv\n",
        "\n",
        "O argumento 'index_col = 0' indica que os rótulos das linhas estão contidos na coluna 0 do arquivo csv"
      ],
      "metadata": {
        "id": "YxemjYGcyds7"
      }
    },
    {
      "cell_type": "code",
      "execution_count": 25,
      "metadata": {
        "colab": {
          "base_uri": "https://localhost:8080/",
          "height": 206
        },
        "id": "Uswx6AwpYRZA",
        "outputId": "27b6c057-a1e8-4e42-ab93-f7f0d93219d4"
      },
      "outputs": [
        {
          "output_type": "execute_result",
          "data": {
            "text/plain": [
              "         country    capital    area  population\n",
              "BR        Brazil   Brasilia   8.516      200.40\n",
              "RU        Russia     Moscow  17.100      143.50\n",
              "IN         India  New Delhi   3.286     1252.00\n",
              "CH         China    Beijing   9.597     1357.00\n",
              "SA  South Africa   Pretoria   1.221       52.98"
            ],
            "text/html": [
              "\n",
              "  <div id=\"df-e5b4b465-b243-4813-a5e4-91dc86da01e3\">\n",
              "    <div class=\"colab-df-container\">\n",
              "      <div>\n",
              "<style scoped>\n",
              "    .dataframe tbody tr th:only-of-type {\n",
              "        vertical-align: middle;\n",
              "    }\n",
              "\n",
              "    .dataframe tbody tr th {\n",
              "        vertical-align: top;\n",
              "    }\n",
              "\n",
              "    .dataframe thead th {\n",
              "        text-align: right;\n",
              "    }\n",
              "</style>\n",
              "<table border=\"1\" class=\"dataframe\">\n",
              "  <thead>\n",
              "    <tr style=\"text-align: right;\">\n",
              "      <th></th>\n",
              "      <th>country</th>\n",
              "      <th>capital</th>\n",
              "      <th>area</th>\n",
              "      <th>population</th>\n",
              "    </tr>\n",
              "  </thead>\n",
              "  <tbody>\n",
              "    <tr>\n",
              "      <th>BR</th>\n",
              "      <td>Brazil</td>\n",
              "      <td>Brasilia</td>\n",
              "      <td>8.516</td>\n",
              "      <td>200.40</td>\n",
              "    </tr>\n",
              "    <tr>\n",
              "      <th>RU</th>\n",
              "      <td>Russia</td>\n",
              "      <td>Moscow</td>\n",
              "      <td>17.100</td>\n",
              "      <td>143.50</td>\n",
              "    </tr>\n",
              "    <tr>\n",
              "      <th>IN</th>\n",
              "      <td>India</td>\n",
              "      <td>New Delhi</td>\n",
              "      <td>3.286</td>\n",
              "      <td>1252.00</td>\n",
              "    </tr>\n",
              "    <tr>\n",
              "      <th>CH</th>\n",
              "      <td>China</td>\n",
              "      <td>Beijing</td>\n",
              "      <td>9.597</td>\n",
              "      <td>1357.00</td>\n",
              "    </tr>\n",
              "    <tr>\n",
              "      <th>SA</th>\n",
              "      <td>South Africa</td>\n",
              "      <td>Pretoria</td>\n",
              "      <td>1.221</td>\n",
              "      <td>52.98</td>\n",
              "    </tr>\n",
              "  </tbody>\n",
              "</table>\n",
              "</div>\n",
              "      <button class=\"colab-df-convert\" onclick=\"convertToInteractive('df-e5b4b465-b243-4813-a5e4-91dc86da01e3')\"\n",
              "              title=\"Convert this dataframe to an interactive table.\"\n",
              "              style=\"display:none;\">\n",
              "        \n",
              "  <svg xmlns=\"http://www.w3.org/2000/svg\" height=\"24px\"viewBox=\"0 0 24 24\"\n",
              "       width=\"24px\">\n",
              "    <path d=\"M0 0h24v24H0V0z\" fill=\"none\"/>\n",
              "    <path d=\"M18.56 5.44l.94 2.06.94-2.06 2.06-.94-2.06-.94-.94-2.06-.94 2.06-2.06.94zm-11 1L8.5 8.5l.94-2.06 2.06-.94-2.06-.94L8.5 2.5l-.94 2.06-2.06.94zm10 10l.94 2.06.94-2.06 2.06-.94-2.06-.94-.94-2.06-.94 2.06-2.06.94z\"/><path d=\"M17.41 7.96l-1.37-1.37c-.4-.4-.92-.59-1.43-.59-.52 0-1.04.2-1.43.59L10.3 9.45l-7.72 7.72c-.78.78-.78 2.05 0 2.83L4 21.41c.39.39.9.59 1.41.59.51 0 1.02-.2 1.41-.59l7.78-7.78 2.81-2.81c.8-.78.8-2.07 0-2.86zM5.41 20L4 18.59l7.72-7.72 1.47 1.35L5.41 20z\"/>\n",
              "  </svg>\n",
              "      </button>\n",
              "      \n",
              "  <style>\n",
              "    .colab-df-container {\n",
              "      display:flex;\n",
              "      flex-wrap:wrap;\n",
              "      gap: 12px;\n",
              "    }\n",
              "\n",
              "    .colab-df-convert {\n",
              "      background-color: #E8F0FE;\n",
              "      border: none;\n",
              "      border-radius: 50%;\n",
              "      cursor: pointer;\n",
              "      display: none;\n",
              "      fill: #1967D2;\n",
              "      height: 32px;\n",
              "      padding: 0 0 0 0;\n",
              "      width: 32px;\n",
              "    }\n",
              "\n",
              "    .colab-df-convert:hover {\n",
              "      background-color: #E2EBFA;\n",
              "      box-shadow: 0px 1px 2px rgba(60, 64, 67, 0.3), 0px 1px 3px 1px rgba(60, 64, 67, 0.15);\n",
              "      fill: #174EA6;\n",
              "    }\n",
              "\n",
              "    [theme=dark] .colab-df-convert {\n",
              "      background-color: #3B4455;\n",
              "      fill: #D2E3FC;\n",
              "    }\n",
              "\n",
              "    [theme=dark] .colab-df-convert:hover {\n",
              "      background-color: #434B5C;\n",
              "      box-shadow: 0px 1px 3px 1px rgba(0, 0, 0, 0.15);\n",
              "      filter: drop-shadow(0px 1px 2px rgba(0, 0, 0, 0.3));\n",
              "      fill: #FFFFFF;\n",
              "    }\n",
              "  </style>\n",
              "\n",
              "      <script>\n",
              "        const buttonEl =\n",
              "          document.querySelector('#df-e5b4b465-b243-4813-a5e4-91dc86da01e3 button.colab-df-convert');\n",
              "        buttonEl.style.display =\n",
              "          google.colab.kernel.accessAllowed ? 'block' : 'none';\n",
              "\n",
              "        async function convertToInteractive(key) {\n",
              "          const element = document.querySelector('#df-e5b4b465-b243-4813-a5e4-91dc86da01e3');\n",
              "          const dataTable =\n",
              "            await google.colab.kernel.invokeFunction('convertToInteractive',\n",
              "                                                     [key], {});\n",
              "          if (!dataTable) return;\n",
              "\n",
              "          const docLinkHtml = 'Like what you see? Visit the ' +\n",
              "            '<a target=\"_blank\" href=https://colab.research.google.com/notebooks/data_table.ipynb>data table notebook</a>'\n",
              "            + ' to learn more about interactive tables.';\n",
              "          element.innerHTML = '';\n",
              "          dataTable['output_type'] = 'display_data';\n",
              "          await google.colab.output.renderOutput(dataTable, element);\n",
              "          const docLink = document.createElement('div');\n",
              "          docLink.innerHTML = docLinkHtml;\n",
              "          element.appendChild(docLink);\n",
              "        }\n",
              "      </script>\n",
              "    </div>\n",
              "  </div>\n",
              "  "
            ]
          },
          "metadata": {},
          "execution_count": 25
        }
      ],
      "source": [
        "import pandas as pd\n",
        "brics = pd.read_csv('brics.csv', index_col=0)\n",
        "brics"
      ]
    },
    {
      "cell_type": "markdown",
      "metadata": {
        "id": "NpURpTrzYRZA"
      },
      "source": [
        "**Objetivo**: selecionar os países com área maior do que 8 milhões de km2\n",
        "\n",
        "3 passos:\n",
        "- Selecionar a coluna \"area\"\n",
        "- Fazer uma comparação na coluna \"area\"\n",
        "- Usar o resultado para selecionar os países"
      ]
    },
    {
      "cell_type": "markdown",
      "source": [
        "Selecionando apenas a coluna 'area' do DataFrame 'brics'"
      ],
      "metadata": {
        "id": "9VH9aYikzp_C"
      }
    },
    {
      "cell_type": "code",
      "execution_count": 26,
      "metadata": {
        "colab": {
          "base_uri": "https://localhost:8080/"
        },
        "id": "gjTNiduoYRZB",
        "outputId": "d685a465-8891-4a22-e751-5c188753889e"
      },
      "outputs": [
        {
          "output_type": "execute_result",
          "data": {
            "text/plain": [
              "BR     8.516\n",
              "RU    17.100\n",
              "IN     3.286\n",
              "CH     9.597\n",
              "SA     1.221\n",
              "Name: area, dtype: float64"
            ]
          },
          "metadata": {},
          "execution_count": 26
        }
      ],
      "source": [
        "# Selecionar a coluna \"area\"\n",
        "brics['area']"
      ]
    },
    {
      "cell_type": "markdown",
      "source": [
        "Usando a coluna 'area' do DataFrame em uma expressão booleana, podemos obter como resultado uma coluna com valores True or False, dependendo se o valor original daquela determinada linha (na coluna 'area') atende a condição ou não "
      ],
      "metadata": {
        "id": "YGR_dawzzugc"
      }
    },
    {
      "cell_type": "code",
      "execution_count": 27,
      "metadata": {
        "colab": {
          "base_uri": "https://localhost:8080/"
        },
        "id": "d3v-tMZSYRZB",
        "outputId": "fa2be07a-7f48-4954-c59a-0c4da7dec133"
      },
      "outputs": [
        {
          "output_type": "execute_result",
          "data": {
            "text/plain": [
              "BR     True\n",
              "RU     True\n",
              "IN    False\n",
              "CH     True\n",
              "SA    False\n",
              "Name: area, dtype: bool"
            ]
          },
          "metadata": {},
          "execution_count": 27
        }
      ],
      "source": [
        "# Fazer uma comparação na coluna \"area\"\n",
        "brics['area'] > 8\n",
        "is_huge = brics['area'] > 8\n",
        "is_huge"
      ]
    },
    {
      "cell_type": "markdown",
      "source": [
        "Por fim, passando o resultado da operação anterior(a coluna com valores booleanos) para o DataFrame 'brics' entre [ ], conseguimos selecionar apenas os países que têm área superior a 8 milhões de km²"
      ],
      "metadata": {
        "id": "wauBqQyg1K2Y"
      }
    },
    {
      "cell_type": "code",
      "execution_count": 28,
      "metadata": {
        "colab": {
          "base_uri": "https://localhost:8080/",
          "height": 143
        },
        "id": "Kix2TPgkYRZB",
        "outputId": "ea54417c-aad2-468b-c534-b14d24276fed"
      },
      "outputs": [
        {
          "output_type": "execute_result",
          "data": {
            "text/plain": [
              "   country   capital    area  population\n",
              "BR  Brazil  Brasilia   8.516       200.4\n",
              "RU  Russia    Moscow  17.100       143.5\n",
              "CH   China   Beijing   9.597      1357.0"
            ],
            "text/html": [
              "\n",
              "  <div id=\"df-d7f8273f-42de-4047-890a-24eeaece3f80\">\n",
              "    <div class=\"colab-df-container\">\n",
              "      <div>\n",
              "<style scoped>\n",
              "    .dataframe tbody tr th:only-of-type {\n",
              "        vertical-align: middle;\n",
              "    }\n",
              "\n",
              "    .dataframe tbody tr th {\n",
              "        vertical-align: top;\n",
              "    }\n",
              "\n",
              "    .dataframe thead th {\n",
              "        text-align: right;\n",
              "    }\n",
              "</style>\n",
              "<table border=\"1\" class=\"dataframe\">\n",
              "  <thead>\n",
              "    <tr style=\"text-align: right;\">\n",
              "      <th></th>\n",
              "      <th>country</th>\n",
              "      <th>capital</th>\n",
              "      <th>area</th>\n",
              "      <th>population</th>\n",
              "    </tr>\n",
              "  </thead>\n",
              "  <tbody>\n",
              "    <tr>\n",
              "      <th>BR</th>\n",
              "      <td>Brazil</td>\n",
              "      <td>Brasilia</td>\n",
              "      <td>8.516</td>\n",
              "      <td>200.4</td>\n",
              "    </tr>\n",
              "    <tr>\n",
              "      <th>RU</th>\n",
              "      <td>Russia</td>\n",
              "      <td>Moscow</td>\n",
              "      <td>17.100</td>\n",
              "      <td>143.5</td>\n",
              "    </tr>\n",
              "    <tr>\n",
              "      <th>CH</th>\n",
              "      <td>China</td>\n",
              "      <td>Beijing</td>\n",
              "      <td>9.597</td>\n",
              "      <td>1357.0</td>\n",
              "    </tr>\n",
              "  </tbody>\n",
              "</table>\n",
              "</div>\n",
              "      <button class=\"colab-df-convert\" onclick=\"convertToInteractive('df-d7f8273f-42de-4047-890a-24eeaece3f80')\"\n",
              "              title=\"Convert this dataframe to an interactive table.\"\n",
              "              style=\"display:none;\">\n",
              "        \n",
              "  <svg xmlns=\"http://www.w3.org/2000/svg\" height=\"24px\"viewBox=\"0 0 24 24\"\n",
              "       width=\"24px\">\n",
              "    <path d=\"M0 0h24v24H0V0z\" fill=\"none\"/>\n",
              "    <path d=\"M18.56 5.44l.94 2.06.94-2.06 2.06-.94-2.06-.94-.94-2.06-.94 2.06-2.06.94zm-11 1L8.5 8.5l.94-2.06 2.06-.94-2.06-.94L8.5 2.5l-.94 2.06-2.06.94zm10 10l.94 2.06.94-2.06 2.06-.94-2.06-.94-.94-2.06-.94 2.06-2.06.94z\"/><path d=\"M17.41 7.96l-1.37-1.37c-.4-.4-.92-.59-1.43-.59-.52 0-1.04.2-1.43.59L10.3 9.45l-7.72 7.72c-.78.78-.78 2.05 0 2.83L4 21.41c.39.39.9.59 1.41.59.51 0 1.02-.2 1.41-.59l7.78-7.78 2.81-2.81c.8-.78.8-2.07 0-2.86zM5.41 20L4 18.59l7.72-7.72 1.47 1.35L5.41 20z\"/>\n",
              "  </svg>\n",
              "      </button>\n",
              "      \n",
              "  <style>\n",
              "    .colab-df-container {\n",
              "      display:flex;\n",
              "      flex-wrap:wrap;\n",
              "      gap: 12px;\n",
              "    }\n",
              "\n",
              "    .colab-df-convert {\n",
              "      background-color: #E8F0FE;\n",
              "      border: none;\n",
              "      border-radius: 50%;\n",
              "      cursor: pointer;\n",
              "      display: none;\n",
              "      fill: #1967D2;\n",
              "      height: 32px;\n",
              "      padding: 0 0 0 0;\n",
              "      width: 32px;\n",
              "    }\n",
              "\n",
              "    .colab-df-convert:hover {\n",
              "      background-color: #E2EBFA;\n",
              "      box-shadow: 0px 1px 2px rgba(60, 64, 67, 0.3), 0px 1px 3px 1px rgba(60, 64, 67, 0.15);\n",
              "      fill: #174EA6;\n",
              "    }\n",
              "\n",
              "    [theme=dark] .colab-df-convert {\n",
              "      background-color: #3B4455;\n",
              "      fill: #D2E3FC;\n",
              "    }\n",
              "\n",
              "    [theme=dark] .colab-df-convert:hover {\n",
              "      background-color: #434B5C;\n",
              "      box-shadow: 0px 1px 3px 1px rgba(0, 0, 0, 0.15);\n",
              "      filter: drop-shadow(0px 1px 2px rgba(0, 0, 0, 0.3));\n",
              "      fill: #FFFFFF;\n",
              "    }\n",
              "  </style>\n",
              "\n",
              "      <script>\n",
              "        const buttonEl =\n",
              "          document.querySelector('#df-d7f8273f-42de-4047-890a-24eeaece3f80 button.colab-df-convert');\n",
              "        buttonEl.style.display =\n",
              "          google.colab.kernel.accessAllowed ? 'block' : 'none';\n",
              "\n",
              "        async function convertToInteractive(key) {\n",
              "          const element = document.querySelector('#df-d7f8273f-42de-4047-890a-24eeaece3f80');\n",
              "          const dataTable =\n",
              "            await google.colab.kernel.invokeFunction('convertToInteractive',\n",
              "                                                     [key], {});\n",
              "          if (!dataTable) return;\n",
              "\n",
              "          const docLinkHtml = 'Like what you see? Visit the ' +\n",
              "            '<a target=\"_blank\" href=https://colab.research.google.com/notebooks/data_table.ipynb>data table notebook</a>'\n",
              "            + ' to learn more about interactive tables.';\n",
              "          element.innerHTML = '';\n",
              "          dataTable['output_type'] = 'display_data';\n",
              "          await google.colab.output.renderOutput(dataTable, element);\n",
              "          const docLink = document.createElement('div');\n",
              "          docLink.innerHTML = docLinkHtml;\n",
              "          element.appendChild(docLink);\n",
              "        }\n",
              "      </script>\n",
              "    </div>\n",
              "  </div>\n",
              "  "
            ]
          },
          "metadata": {},
          "execution_count": 28
        }
      ],
      "source": [
        "# Usar o resultado para selecionar os países\n",
        "brics[is_huge]"
      ]
    },
    {
      "cell_type": "markdown",
      "source": [
        "Criando um DataFrame 'cars' a partir de um arquivo csv usando o método read_csv\n",
        "\n",
        "O argumento 'index_col = 0' indica que os rótulos das linhas estão contidos na coluna 0 do arquivo csv"
      ],
      "metadata": {
        "id": "HXBqazet3IQP"
      }
    },
    {
      "cell_type": "code",
      "execution_count": 29,
      "metadata": {
        "colab": {
          "base_uri": "https://localhost:8080/",
          "height": 269
        },
        "id": "YAVG9j2TYRZB",
        "outputId": "5a5db9ec-8e01-49e5-c447-5270f1d3736c"
      },
      "outputs": [
        {
          "output_type": "execute_result",
          "data": {
            "text/plain": [
              "     cars_per_cap        country  drives_right\n",
              "US            809  United States          True\n",
              "AUS           731      Australia         False\n",
              "JAP           588          Japan         False\n",
              "IN             18          India         False\n",
              "RU            200         Russia          True\n",
              "MOR            70        Morocco          True\n",
              "EG             45          Egypt          True"
            ],
            "text/html": [
              "\n",
              "  <div id=\"df-885753de-a194-4d42-99fc-a60540a43b68\">\n",
              "    <div class=\"colab-df-container\">\n",
              "      <div>\n",
              "<style scoped>\n",
              "    .dataframe tbody tr th:only-of-type {\n",
              "        vertical-align: middle;\n",
              "    }\n",
              "\n",
              "    .dataframe tbody tr th {\n",
              "        vertical-align: top;\n",
              "    }\n",
              "\n",
              "    .dataframe thead th {\n",
              "        text-align: right;\n",
              "    }\n",
              "</style>\n",
              "<table border=\"1\" class=\"dataframe\">\n",
              "  <thead>\n",
              "    <tr style=\"text-align: right;\">\n",
              "      <th></th>\n",
              "      <th>cars_per_cap</th>\n",
              "      <th>country</th>\n",
              "      <th>drives_right</th>\n",
              "    </tr>\n",
              "  </thead>\n",
              "  <tbody>\n",
              "    <tr>\n",
              "      <th>US</th>\n",
              "      <td>809</td>\n",
              "      <td>United States</td>\n",
              "      <td>True</td>\n",
              "    </tr>\n",
              "    <tr>\n",
              "      <th>AUS</th>\n",
              "      <td>731</td>\n",
              "      <td>Australia</td>\n",
              "      <td>False</td>\n",
              "    </tr>\n",
              "    <tr>\n",
              "      <th>JAP</th>\n",
              "      <td>588</td>\n",
              "      <td>Japan</td>\n",
              "      <td>False</td>\n",
              "    </tr>\n",
              "    <tr>\n",
              "      <th>IN</th>\n",
              "      <td>18</td>\n",
              "      <td>India</td>\n",
              "      <td>False</td>\n",
              "    </tr>\n",
              "    <tr>\n",
              "      <th>RU</th>\n",
              "      <td>200</td>\n",
              "      <td>Russia</td>\n",
              "      <td>True</td>\n",
              "    </tr>\n",
              "    <tr>\n",
              "      <th>MOR</th>\n",
              "      <td>70</td>\n",
              "      <td>Morocco</td>\n",
              "      <td>True</td>\n",
              "    </tr>\n",
              "    <tr>\n",
              "      <th>EG</th>\n",
              "      <td>45</td>\n",
              "      <td>Egypt</td>\n",
              "      <td>True</td>\n",
              "    </tr>\n",
              "  </tbody>\n",
              "</table>\n",
              "</div>\n",
              "      <button class=\"colab-df-convert\" onclick=\"convertToInteractive('df-885753de-a194-4d42-99fc-a60540a43b68')\"\n",
              "              title=\"Convert this dataframe to an interactive table.\"\n",
              "              style=\"display:none;\">\n",
              "        \n",
              "  <svg xmlns=\"http://www.w3.org/2000/svg\" height=\"24px\"viewBox=\"0 0 24 24\"\n",
              "       width=\"24px\">\n",
              "    <path d=\"M0 0h24v24H0V0z\" fill=\"none\"/>\n",
              "    <path d=\"M18.56 5.44l.94 2.06.94-2.06 2.06-.94-2.06-.94-.94-2.06-.94 2.06-2.06.94zm-11 1L8.5 8.5l.94-2.06 2.06-.94-2.06-.94L8.5 2.5l-.94 2.06-2.06.94zm10 10l.94 2.06.94-2.06 2.06-.94-2.06-.94-.94-2.06-.94 2.06-2.06.94z\"/><path d=\"M17.41 7.96l-1.37-1.37c-.4-.4-.92-.59-1.43-.59-.52 0-1.04.2-1.43.59L10.3 9.45l-7.72 7.72c-.78.78-.78 2.05 0 2.83L4 21.41c.39.39.9.59 1.41.59.51 0 1.02-.2 1.41-.59l7.78-7.78 2.81-2.81c.8-.78.8-2.07 0-2.86zM5.41 20L4 18.59l7.72-7.72 1.47 1.35L5.41 20z\"/>\n",
              "  </svg>\n",
              "      </button>\n",
              "      \n",
              "  <style>\n",
              "    .colab-df-container {\n",
              "      display:flex;\n",
              "      flex-wrap:wrap;\n",
              "      gap: 12px;\n",
              "    }\n",
              "\n",
              "    .colab-df-convert {\n",
              "      background-color: #E8F0FE;\n",
              "      border: none;\n",
              "      border-radius: 50%;\n",
              "      cursor: pointer;\n",
              "      display: none;\n",
              "      fill: #1967D2;\n",
              "      height: 32px;\n",
              "      padding: 0 0 0 0;\n",
              "      width: 32px;\n",
              "    }\n",
              "\n",
              "    .colab-df-convert:hover {\n",
              "      background-color: #E2EBFA;\n",
              "      box-shadow: 0px 1px 2px rgba(60, 64, 67, 0.3), 0px 1px 3px 1px rgba(60, 64, 67, 0.15);\n",
              "      fill: #174EA6;\n",
              "    }\n",
              "\n",
              "    [theme=dark] .colab-df-convert {\n",
              "      background-color: #3B4455;\n",
              "      fill: #D2E3FC;\n",
              "    }\n",
              "\n",
              "    [theme=dark] .colab-df-convert:hover {\n",
              "      background-color: #434B5C;\n",
              "      box-shadow: 0px 1px 3px 1px rgba(0, 0, 0, 0.15);\n",
              "      filter: drop-shadow(0px 1px 2px rgba(0, 0, 0, 0.3));\n",
              "      fill: #FFFFFF;\n",
              "    }\n",
              "  </style>\n",
              "\n",
              "      <script>\n",
              "        const buttonEl =\n",
              "          document.querySelector('#df-885753de-a194-4d42-99fc-a60540a43b68 button.colab-df-convert');\n",
              "        buttonEl.style.display =\n",
              "          google.colab.kernel.accessAllowed ? 'block' : 'none';\n",
              "\n",
              "        async function convertToInteractive(key) {\n",
              "          const element = document.querySelector('#df-885753de-a194-4d42-99fc-a60540a43b68');\n",
              "          const dataTable =\n",
              "            await google.colab.kernel.invokeFunction('convertToInteractive',\n",
              "                                                     [key], {});\n",
              "          if (!dataTable) return;\n",
              "\n",
              "          const docLinkHtml = 'Like what you see? Visit the ' +\n",
              "            '<a target=\"_blank\" href=https://colab.research.google.com/notebooks/data_table.ipynb>data table notebook</a>'\n",
              "            + ' to learn more about interactive tables.';\n",
              "          element.innerHTML = '';\n",
              "          dataTable['output_type'] = 'display_data';\n",
              "          await google.colab.output.renderOutput(dataTable, element);\n",
              "          const docLink = document.createElement('div');\n",
              "          docLink.innerHTML = docLinkHtml;\n",
              "          element.appendChild(docLink);\n",
              "        }\n",
              "      </script>\n",
              "    </div>\n",
              "  </div>\n",
              "  "
            ]
          },
          "metadata": {},
          "execution_count": 29
        }
      ],
      "source": [
        "# Importando dataset de carros\n",
        "import pandas as pd\n",
        "cars = pd.read_csv('cars.csv', index_col = 0)\n",
        "cars"
      ]
    },
    {
      "cell_type": "markdown",
      "source": [
        "Usando a coluna 'drives_right' do DataFrame 'cars', conseguimos selecionar apenas as linhas do DataFrame cujo valor nessa coluna é True\n",
        "\n",
        "Para isso, basta passar a coluna 'drives_right' entre [ ] para o DataFrame 'cars'"
      ],
      "metadata": {
        "id": "zK36rKnL3s7I"
      }
    },
    {
      "cell_type": "code",
      "execution_count": 30,
      "metadata": {
        "colab": {
          "base_uri": "https://localhost:8080/"
        },
        "id": "Q_o0CgJkYRZC",
        "outputId": "36a0430b-5ca9-4148-e26d-9c949a648a9a"
      },
      "outputs": [
        {
          "output_type": "stream",
          "name": "stdout",
          "text": [
            "     cars_per_cap        country  drives_right\n",
            "US            809  United States          True\n",
            "RU            200         Russia          True\n",
            "MOR            70        Morocco          True\n",
            "EG             45          Egypt          True\n"
          ]
        }
      ],
      "source": [
        "# Extraia a coluna 'drives_right' do DataFrame 'cars' e atribua a variável 'dr'\n",
        "dr = cars['drives_right']\n",
        "\n",
        "# Use a variável 'dr' para criar um subconjunto de dados chamado 'sel'\n",
        "sel = cars[dr]\n",
        "\n",
        "# Imprima a variável 'sel'\n",
        "print(sel)"
      ]
    },
    {
      "cell_type": "markdown",
      "source": [
        "Usando a coluna 'cars_per_cap' do DataFrame 'cars', conseguimos selecionar apenas as linhas do DataFrame que possuem valor acima de 500 nessa coluna\n",
        "\n",
        "Para isso, selecionamos a coluna 'cars_per_cap' usando a variável 'cpc' e a usamos na expressão cpc > 500, a qual retorna uma coluna com valores booleanos(True se o valor daquela linha for maior que 500 e False caso contrário), a qual passamos para o DataFrame 'cars' entre [ ], filtrando o DataFrame"
      ],
      "metadata": {
        "id": "_1MiQs9Q450D"
      }
    },
    {
      "cell_type": "code",
      "execution_count": 31,
      "metadata": {
        "colab": {
          "base_uri": "https://localhost:8080/"
        },
        "id": "XPM6QS2QYRZC",
        "outputId": "254abb6c-fe83-4e4b-a605-ed6343725af7"
      },
      "outputs": [
        {
          "output_type": "stream",
          "name": "stdout",
          "text": [
            "     cars_per_cap        country  drives_right\n",
            "US            809  United States          True\n",
            "AUS           731      Australia         False\n",
            "JAP           588          Japan         False\n"
          ]
        }
      ],
      "source": [
        "# Crie uma variável car_maniac: linhas que possuem 'cars_per_cap' maiores do que 500\n",
        "cpc = cars['cars_per_cap']\n",
        "many_cars = cpc > 500\n",
        "car_maniac = cars[many_cars]\n",
        "\n",
        "# Imprima 'car_maniac'\n",
        "print(car_maniac)"
      ]
    },
    {
      "cell_type": "markdown",
      "source": [
        "A célula abaixo faz a mesma coisa que a anterior, a diferença é que a condição é diferente\n",
        "\n",
        "Agora, queremos as linhas do DataFrame 'cars' cujo valor na coluna 'cars_per_cap' está entre 100 e 500\n",
        "\n",
        "Portanto, agora precisamos usar o método logical_and, uma vez que duas condições precisam ser cumpridas ao mesmo tempo\n",
        "\n",
        "O resto é análogo a célula anterior"
      ],
      "metadata": {
        "id": "cjtARIxe7eDL"
      }
    },
    {
      "cell_type": "code",
      "execution_count": 32,
      "metadata": {
        "colab": {
          "base_uri": "https://localhost:8080/"
        },
        "id": "Z_mBXeS7YRZC",
        "outputId": "9a95dbf5-3243-4f25-ccb8-b9d5fd99db01"
      },
      "outputs": [
        {
          "output_type": "stream",
          "name": "stdout",
          "text": [
            "    cars_per_cap country  drives_right\n",
            "RU           200  Russia          True\n"
          ]
        }
      ],
      "source": [
        "# Importe o conjunto de dados 'cars.csv', bem como as bibliotecas 'pandas' e 'numpy'\n",
        "import pandas as pd\n",
        "import numpy as np\n",
        "cars = pd.read_csv('cars.csv', index_col = 0)\n",
        "\n",
        "# Crie a variável 'medium': linhas que possuem 'cars_per_cap' entre 100 e 500\n",
        "cpc = cars['cars_per_cap']\n",
        "between = np.logical_and(cpc > 100, cpc < 500)\n",
        "medium = cars[between]\n",
        "\n",
        "# Imprima 'medium'\n",
        "print(medium)"
      ]
    }
  ],
  "metadata": {
    "kernelspec": {
      "display_name": "Python 3",
      "language": "python",
      "name": "python3"
    },
    "language_info": {
      "codemirror_mode": {
        "name": "ipython",
        "version": 3
      },
      "file_extension": ".py",
      "mimetype": "text/x-python",
      "name": "python",
      "nbconvert_exporter": "python",
      "pygments_lexer": "ipython3",
      "version": "3.6.8"
    },
    "colab": {
      "provenance": []
    }
  },
  "nbformat": 4,
  "nbformat_minor": 0
}