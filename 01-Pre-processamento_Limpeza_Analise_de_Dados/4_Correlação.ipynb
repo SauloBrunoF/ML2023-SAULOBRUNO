{
  "cells": [
    {
      "cell_type": "markdown",
      "metadata": {
        "id": "7N3U8Gdc2p_W"
      },
      "source": [
        "# 4 - Correlação\n",
        "**Direto ao ponto**: correlação é o coeficiente de interdependência entre duas ou mais variáveis.\n",
        "\n",
        "Em muitos casos, quando analisamos algumas variáveis, essa interdependência é muito clara. Exemplo:\n",
        "- Massa corporal e altura,\n",
        "- Consumo de combustível e distância percorrida,\n",
        "- Número de anúncios e produtos vendidos,\n",
        "- Tempo de estudo e desempenho na avaliação.\n",
        "\n",
        "Entretanto, algumas vezes essa correlação pode não ser muito clara."
      ]
    },
    {
      "cell_type": "markdown",
      "metadata": {
        "id": "CgZ3GhTR2p_a"
      },
      "source": [
        "## Correlações positivas"
      ]
    },
    {
      "cell_type": "markdown",
      "source": [
        "Primeiro, usamos o método seed para sempre obter os mesmos resultados\n",
        "\n",
        "Depois criamos um array 'x' com 1000 inteiros aleatórios entre 0 e 50\n",
        "\n",
        "Então, criamos outro array preenchido com 1000 valores aleatórios retirados de uma distribuição normal cuja média é 0 e desvio padrão é 10, o que significa que os valores vão variar em torno de 0\n",
        "\n",
        "Após isso, somamos os valores do array 'x' com os valores do outro array e atribuímos o resultado ao array 'y'\n",
        "\n",
        "Por fim, calculamos a correlação entre 'x' e 'y', que resultou em 0.81543901, ou seja, temos uma correlação positiva forte"
      ],
      "metadata": {
        "id": "rPjSVBOiF80D"
      }
    },
    {
      "cell_type": "code",
      "execution_count": 27,
      "metadata": {
        "colab": {
          "base_uri": "https://localhost:8080/"
        },
        "id": "SZ881WRC2p_b",
        "outputId": "33ed533d-775f-40f9-edab-4cbf4eb43436"
      },
      "outputs": [
        {
          "output_type": "execute_result",
          "data": {
            "text/plain": [
              "array([[1.        , 0.81543901],\n",
              "       [0.81543901, 1.        ]])"
            ]
          },
          "metadata": {},
          "execution_count": 27
        }
      ],
      "source": [
        "import numpy as np\n",
        "\n",
        "np.random.seed(1)\n",
        "\n",
        "# 1000 random integers between 0 and 50\n",
        "x = np.random.randint(0, 50, 1000)\n",
        "\n",
        "# Positive Correlation with some noise\n",
        "y = x + np.random.normal(0, 10, 1000)\n",
        "\n",
        "np.corrcoef(x, y)"
      ]
    },
    {
      "cell_type": "markdown",
      "source": [
        "Usando a biblioteca matplotlib para gerar um gráfico do tipo scatter, cujos pontos tem coordenadas x no array 'x' e coordenadas y no array 'y'\n",
        "\n",
        "Podemos perceber que, como a correlação é positiva forte, o gráfico é crescente"
      ],
      "metadata": {
        "id": "c_HYZFGkISr-"
      }
    },
    {
      "cell_type": "code",
      "execution_count": 28,
      "metadata": {
        "colab": {
          "base_uri": "https://localhost:8080/",
          "height": 282
        },
        "id": "CILZrUKl2p_e",
        "outputId": "07abdf90-6dd2-4fa3-e5c5-d69b58e50b22"
      },
      "outputs": [
        {
          "output_type": "execute_result",
          "data": {
            "text/plain": [
              "<matplotlib.collections.PathCollection at 0x7ff5714addc0>"
            ]
          },
          "metadata": {},
          "execution_count": 28
        },
        {
          "output_type": "display_data",
          "data": {
            "text/plain": [
              "<Figure size 432x288 with 1 Axes>"
            ],
            "image/png": "[encoded data removed]"
          },
          "metadata": {
            "needs_background": "light"
          }
        }
      ],
      "source": [
        "# import matplotlib\n",
        "import matplotlib.pyplot as plt\n",
        "\n",
        "plt.scatter(x, y)"
      ]
    },
    {
      "cell_type": "markdown",
      "metadata": {
        "id": "t3WmvtwY2p_f"
      },
      "source": [
        "## Correlações negativas"
      ]
    },
    {
      "cell_type": "markdown",
      "source": [
        "Primeiro criamos um array 'x' com 1000 inteiros aleatórios entre 0 e 50\n",
        "\n",
        "Então, criamos outro array preenchido com 1000 valores aleatórios retirados de uma distribuição normal cuja média é 0 e desvio padrão é 5, o que significa que os valores vão variar em torno de 0\n",
        "\n",
        "Após isso, somamos os valores do array 'x' com os valores do outro array, subtraímos as somas do valor 100 e atribuímos os valores resultantes ao array 'y'\n",
        "\n",
        "Por fim, calculamos a correlação entre 'x' e 'y', que resultou em -0.94491024, ou seja, temos uma correlação negativa forte"
      ],
      "metadata": {
        "id": "kLfnkWGxPnxL"
      }
    },
    {
      "cell_type": "code",
      "execution_count": 31,
      "metadata": {
        "colab": {
          "base_uri": "https://localhost:8080/"
        },
        "id": "7MNXV8kc2p_f",
        "outputId": "fe677b85-5890-4ef7-df80-a2b800f6c955"
      },
      "outputs": [
        {
          "output_type": "execute_result",
          "data": {
            "text/plain": [
              "array([[ 1.        , -0.94491024],\n",
              "       [-0.94491024,  1.        ]])"
            ]
          },
          "metadata": {},
          "execution_count": 31
        }
      ],
      "source": [
        "# 1000 random integers between 0 and 50\n",
        "x = np.random.randint(0, 50, 1000)\n",
        "\n",
        "# Negative Correlation with some noise\n",
        "y = 100 - x + np.random.normal(0, 5, 1000)\n",
        "\n",
        "np.corrcoef(x, y)"
      ]
    },
    {
      "cell_type": "markdown",
      "source": [
        "Usando a biblioteca matplotlib para gerar um gráfico do tipo scatter, cujos pontos tem coordenadas x no array 'x' e coordenadas y no array 'y'\n",
        "\n",
        "Podemos perceber que, como a correlação é negativa forte, o gráfico é decrescente"
      ],
      "metadata": {
        "id": "6NWkj68FQz-u"
      }
    },
    {
      "cell_type": "code",
      "execution_count": 32,
      "metadata": {
        "colab": {
          "base_uri": "https://localhost:8080/",
          "height": 282
        },
        "id": "xRpZsXMm2p_g",
        "outputId": "bf5f2aa4-1673-4afc-cc7b-97d33bcf0463"
      },
      "outputs": [
        {
          "output_type": "execute_result",
          "data": {
            "text/plain": [
              "<matplotlib.collections.PathCollection at 0x7ff5714278b0>"
            ]
          },
          "metadata": {},
          "execution_count": 32
        },
        {
          "output_type": "display_data",
          "data": {
            "text/plain": [
              "<Figure size 432x288 with 1 Axes>"
            ],
            "image/png": "[encoded data removed]"
          },
          "metadata": {
            "needs_background": "light"
          }
        }
      ],
      "source": [
        "plt.scatter(x, y)"
      ]
    },
    {
      "cell_type": "markdown",
      "metadata": {
        "id": "00amINHL2p_g"
      },
      "source": [
        "## Correlação fraca ou sem correlação"
      ]
    },
    {
      "cell_type": "markdown",
      "source": [
        "Primeiro criamos um array 'x' com 1000 valores aleatórios entre 0 e 50\n",
        "Então, criamos outro array 'y' com 1000 valores aleatórios entre 0 e 50\n",
        "Após isso, calculamos a correlação entre 'x' e 'y', que resultou em -0.02108978, ou seja, temos uma correlação negativa fraca"
      ],
      "metadata": {
        "id": "M8LUq9u-SPd6"
      }
    },
    {
      "cell_type": "code",
      "execution_count": 38,
      "metadata": {
        "colab": {
          "base_uri": "https://localhost:8080/"
        },
        "id": "B94-cQ_i2p_g",
        "outputId": "a1412af7-404d-4cf5-a733-b79333c1cef6"
      },
      "outputs": [
        {
          "output_type": "execute_result",
          "data": {
            "text/plain": [
              "array([[ 1.        , -0.02108978],\n",
              "       [-0.02108978,  1.        ]])"
            ]
          },
          "metadata": {},
          "execution_count": 38
        }
      ],
      "source": [
        "x = np.random.randint(0, 50, 1000)\n",
        "y = np.random.randint(0, 50, 1000)\n",
        "\n",
        "\n",
        "np.corrcoef(x, y)"
      ]
    },
    {
      "cell_type": "markdown",
      "source": [
        "Usando a biblioteca matplotlib para gerar um gráfico do tipo scatter, cujos pontos tem coordenadas x no array 'x' e coordenadas y no array 'y'\n",
        "\n",
        "Podemos perceber que, como a correlação é fraca entre 'x' e 'y', os pontos do gráfico são totalmente espalhados, não sendo o gráfico nem crescente nem decrescente"
      ],
      "metadata": {
        "id": "znCLo-icVYD3"
      }
    },
    {
      "cell_type": "code",
      "execution_count": 39,
      "metadata": {
        "colab": {
          "base_uri": "https://localhost:8080/",
          "height": 282
        },
        "id": "_Rt0yhmV2p_h",
        "outputId": "4f9b518a-ca6e-4d61-cad4-0d10918f035e"
      },
      "outputs": [
        {
          "output_type": "execute_result",
          "data": {
            "text/plain": [
              "<matplotlib.collections.PathCollection at 0x7ff5713abc70>"
            ]
          },
          "metadata": {},
          "execution_count": 39
        },
        {
          "output_type": "display_data",
          "data": {
            "text/plain": [
              "<Figure size 432x288 with 1 Axes>"
            ],
            "image/png": "[encoded data removed]"
          },
          "metadata": {
            "needs_background": "light"
          }
        }
      ],
      "source": [
        "plt.scatter(x, y)"
      ]
    },
    {
      "cell_type": "markdown",
      "metadata": {
        "id": "Qf4pZcbh2p_h"
      },
      "source": [
        "## Correlação é diferente de causalidade!"
      ]
    },
    {
      "cell_type": "markdown",
      "metadata": {
        "id": "1QzFjojX2p_i"
      },
      "source": [
        "![chart.png](attachment:chart.png)"
      ]
    }
  ],
  "metadata": {
    "kernelspec": {
      "display_name": "Python 3",
      "language": "python",
      "name": "python3"
    },
    "language_info": {
      "codemirror_mode": {
        "name": "ipython",
        "version": 3
      },
      "file_extension": ".py",
      "mimetype": "text/x-python",
      "name": "python",
      "nbconvert_exporter": "python",
      "pygments_lexer": "ipython3",
      "version": "3.6.8"
    },
    "colab": {
      "provenance": []
    }
  },
  "nbformat": 4,
  "nbformat_minor": 0
}