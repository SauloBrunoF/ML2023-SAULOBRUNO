{
  "cells": [
    {
      "cell_type": "markdown",
      "metadata": {
        "id": "PIIylvYDupff"
      },
      "source": [
        "# 3 - Tipos e Conversão de tipos\n",
        "O Numpy suporta uma variedade de tipos muito maior do que o Python."
      ]
    },
    {
      "cell_type": "markdown",
      "metadata": {
        "id": "CqPOBovpupfo"
      },
      "source": [
        "Existem 5 tipos básicos numéricos\n",
        "- Booleans (bool)\n",
        "- Integers (int)\n",
        "- Unsigned Intergers (uint)\n",
        "- Floating Points (float)\n",
        "- Complex\n",
        "\n",
        "Complementarmente, a célula abaixo mostra um quadro comparativos com uma maior quantidade de tipos do Numpy."
      ]
    },
    {
      "cell_type": "markdown",
      "metadata": {
        "id": "5DuLc0-wupfq"
      },
      "source": [
        "![datatypes.png](attachment:datatypes.png)\n"
      ]
    },
    {
      "cell_type": "code",
      "execution_count": null,
      "metadata": {
        "id": "2GKACPltupfs"
      },
      "outputs": [],
      "source": [
        "import numpy as np"
      ]
    },
    {
      "cell_type": "markdown",
      "source": [
        "Convertendo o valor passado como argumento(1.0) para o tipo float32 da biblioteca numpy"
      ],
      "metadata": {
        "id": "MKzOhQ1nv8Ru"
      }
    },
    {
      "cell_type": "code",
      "execution_count": null,
      "metadata": {
        "colab": {
          "base_uri": "https://localhost:8080/"
        },
        "id": "fFSqG4_6upfv",
        "outputId": "12d02dbb-7d15-4ea6-e9b8-37e68ee75240"
      },
      "outputs": [
        {
          "output_type": "execute_result",
          "data": {
            "text/plain": [
              "1.0"
            ]
          },
          "metadata": {},
          "execution_count": 5
        }
      ],
      "source": [
        "x = np.float32(1.0)\n",
        "x"
      ]
    },
    {
      "cell_type": "markdown",
      "source": [
        "Convertendo os valores passados como argumento para o tipo inteiro padrão, que nesse caso é int64, gerando um array com valores do tipo int64"
      ],
      "metadata": {
        "id": "v6vJHvgPwhoS"
      }
    },
    {
      "cell_type": "code",
      "execution_count": null,
      "metadata": {
        "colab": {
          "base_uri": "https://localhost:8080/"
        },
        "id": "oLyMDxjVupfy",
        "outputId": "9af8f5d9-7afc-47f7-85fd-e0f81000ca1e"
      },
      "outputs": [
        {
          "output_type": "execute_result",
          "data": {
            "text/plain": [
              "array([1, 2, 4])"
            ]
          },
          "metadata": {},
          "execution_count": 10
        }
      ],
      "source": [
        "y = np.int_([1,2,4])\n",
        "y"
      ]
    },
    {
      "cell_type": "markdown",
      "source": [
        "Criando um array 'z', cujos elementos são do tipo uint8, pois passamos como argumento 'dtype=np.uint8' para o método arange\n",
        "\n",
        "O método arange cria um array com valores igualmente espaçados, nesse caso, ele começa em 0 e termina em 2(excluindo o 3), com step igual a 1"
      ],
      "metadata": {
        "id": "sfgIjaeSyv31"
      }
    },
    {
      "cell_type": "code",
      "execution_count": null,
      "metadata": {
        "colab": {
          "base_uri": "https://localhost:8080/"
        },
        "id": "75mhCmEkupfz",
        "outputId": "9b9aa8ed-dbc6-48bf-b2aa-011caadf2c74"
      },
      "outputs": [
        {
          "output_type": "execute_result",
          "data": {
            "text/plain": [
              "array([0, 1, 2], dtype=uint8)"
            ]
          },
          "metadata": {},
          "execution_count": 12
        }
      ],
      "source": [
        "z = np.arange(3, dtype=np.uint8)\n",
        "z"
      ]
    },
    {
      "cell_type": "markdown",
      "source": [
        "Criando array a partir de lista, cujos elementos são do tipo float32, pois passamos como argumento '' dtype='f' ''"
      ],
      "metadata": {
        "id": "tGGrdJ8JxVq1"
      }
    },
    {
      "cell_type": "code",
      "execution_count": null,
      "metadata": {
        "colab": {
          "base_uri": "https://localhost:8080/"
        },
        "id": "QgYWh0VBupf0",
        "outputId": "8617385d-6d59-4aec-c02d-b7a223fb216f"
      },
      "outputs": [
        {
          "output_type": "execute_result",
          "data": {
            "text/plain": [
              "array([1., 2., 3.], dtype=float32)"
            ]
          },
          "metadata": {},
          "execution_count": 13
        }
      ],
      "source": [
        "np.array([1, 2, 3], dtype='f')"
      ]
    },
    {
      "cell_type": "markdown",
      "metadata": {
        "id": "_hzM8vLaupf1"
      },
      "source": [
        "## Convertendo tipos de arrays"
      ]
    },
    {
      "cell_type": "markdown",
      "metadata": {
        "id": "ErtFnRb5upf2"
      },
      "source": [
        "Para convertermos arrays Numpy, basta utilizarmos o método astype()."
      ]
    },
    {
      "cell_type": "markdown",
      "source": [
        "Criando um novo array a partir do array 'z', mas o tipo dos seus elementos é float64"
      ],
      "metadata": {
        "id": "UOUxyPGz0toA"
      }
    },
    {
      "cell_type": "code",
      "execution_count": null,
      "metadata": {
        "colab": {
          "base_uri": "https://localhost:8080/"
        },
        "id": "I0TyUYm3upf3",
        "outputId": "3427d16e-35dc-421d-9f59-167fa55eb276"
      },
      "outputs": [
        {
          "output_type": "execute_result",
          "data": {
            "text/plain": [
              "array([0., 1., 2.])"
            ]
          },
          "metadata": {},
          "execution_count": 17
        }
      ],
      "source": [
        "z.astype(float)"
      ]
    },
    {
      "cell_type": "markdown",
      "source": [
        "Criando um novo array a partir do array 'z', cujos elementos têm tipo int8, pois realizamos uma conversão usando o método np.int8()"
      ],
      "metadata": {
        "id": "HCLUO9e71_Lw"
      }
    },
    {
      "cell_type": "code",
      "execution_count": null,
      "metadata": {
        "colab": {
          "base_uri": "https://localhost:8080/"
        },
        "id": "zRrAR_gsupf4",
        "outputId": "76b366de-0c6c-4476-892f-f73a2a1907fb"
      },
      "outputs": [
        {
          "output_type": "execute_result",
          "data": {
            "text/plain": [
              "array([0, 1, 2], dtype=int8)"
            ]
          },
          "metadata": {},
          "execution_count": 21
        }
      ],
      "source": [
        "np.int8(z)"
      ]
    },
    {
      "cell_type": "markdown",
      "metadata": {
        "id": "1o19XiKrupf5"
      },
      "source": [
        "Para verificarmos o tipo de um array Numpy, basta verificarmos o seu atributo dtype."
      ]
    },
    {
      "cell_type": "code",
      "execution_count": null,
      "metadata": {
        "colab": {
          "base_uri": "https://localhost:8080/"
        },
        "id": "ECbRbraHupf6",
        "outputId": "4692b100-8678-4cd6-d022-9a213041f6e3"
      },
      "outputs": [
        {
          "output_type": "execute_result",
          "data": {
            "text/plain": [
              "dtype('uint8')"
            ]
          },
          "metadata": {},
          "execution_count": 22
        }
      ],
      "source": [
        "z.dtype"
      ]
    }
  ],
  "metadata": {
    "kernelspec": {
      "display_name": "Python 3",
      "language": "python",
      "name": "python3"
    },
    "language_info": {
      "codemirror_mode": {
        "name": "ipython",
        "version": 3
      },
      "file_extension": ".py",
      "mimetype": "text/x-python",
      "name": "python",
      "nbconvert_exporter": "python",
      "pygments_lexer": "ipython3",
      "version": "3.6.8"
    },
    "colab": {
      "provenance": []
    }
  },
  "nbformat": 4,
  "nbformat_minor": 0
}