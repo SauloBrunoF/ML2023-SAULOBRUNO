{
  "nbformat": 4,
  "nbformat_minor": 0,
  "metadata": {
    "colab": {
      "provenance": []
    },
    "kernelspec": {
      "name": "python3",
      "display_name": "Python 3"
    },
    "language_info": {
      "name": "python"
    }
  },
  "cells": [
    {
      "cell_type": "markdown",
      "source": [
        "Criando um dicionário contendo vários DataFrames a partir de um arquivo excel"
      ],
      "metadata": {
        "id": "DsSXfbFd6Ay9"
      }
    },
    {
      "cell_type": "code",
      "execution_count": 148,
      "metadata": {
        "id": "YYFZaDFmw0UJ"
      },
      "outputs": [],
      "source": [
        "import pandas as pd\n",
        "\n",
        "df_roubo_veiculos = pd.read_excel('ROUBO_VEICULOS.xltx', sheet_name = None)"
      ]
    },
    {
      "cell_type": "markdown",
      "source": [
        "Chaves do dicionário\n",
        "\n",
        "Cada chave está associada a um DataFrame diferente\n",
        "\n",
        "Cada DataFrame contém dados sobre BOs de um ano e mês específicos (ex: Janeiro de 2023)"
      ],
      "metadata": {
        "id": "oqS34SLE6ohu"
      }
    },
    {
      "cell_type": "code",
      "source": [
        "df_roubo_veiculos.keys()"
      ],
      "metadata": {
        "colab": {
          "base_uri": "https://localhost:8080/"
        },
        "id": "aXAwaHEvAj9w",
        "outputId": "ad1fb258-bd3a-4086-9161-6a876b8ec030"
      },
      "execution_count": 149,
      "outputs": [
        {
          "output_type": "execute_result",
          "data": {
            "text/plain": [
              "dict_keys(['DadosBO_2023_1(ROUBO DE VEÍCULO', 'DadosBO_2022_1(ROUBO DE VEÍCULO', 'DadosBO_2022_2(ROUBO DE VEÍCULO', 'DadosBO_2022_3(ROUBO DE VEÍCULO', 'DadosBO_2022_4(ROUBO DE VEÍCULO', 'DadosBO_2022_5(ROUBO DE VEÍCULO', 'DadosBO_2022_6(ROUBO DE VEÍCULO', 'DadosBO_2022_7(ROUBO DE VEÍCULO', 'DadosBO_2022_8(ROUBO DE VEÍCULO', 'DadosBO_2022_9(ROUBO DE VEÍCULO', 'DadosBO_2022_10(ROUBO DE VEÍCUL', 'DadosBO_2022_11(ROUBO DE VEÍCUL', 'DadosBO_2022_12(ROUBO DE VEÍCUL', 'DadosBO_2021_1(ROUBO DE VEÍCULO', 'DadosBO_2021_2(ROUBO DE VEÍCULO', 'DadosBO_2021_3(ROUBO DE VEÍCULO', 'DadosBO_2021_4(ROUBO DE VEÍCULO', 'DadosBO_2021_5(ROUBO DE VEÍCULO', 'DadosBO_2021_6(ROUBO DE VEÍCULO', 'DadosBO_2021_7(ROUBO DE VEÍCULO', 'DadosBO_2021_8(ROUBO DE VEÍCULO', 'DadosBO_2021_9(ROUBO DE VEÍCULO', 'DadosBO_2021_10(ROUBO DE VEÍCUL', 'DadosBO_2021_11(ROUBO DE VEÍCUL', 'DadosBO_2021_12(ROUBO DE VEÍCUL'])"
            ]
          },
          "metadata": {},
          "execution_count": 149
        }
      ]
    },
    {
      "cell_type": "markdown",
      "source": [
        "Removendo dados duplicados de cada um dos DataFrames contido no dicionário"
      ],
      "metadata": {
        "id": "1g8dTsTH6rqG"
      }
    },
    {
      "cell_type": "code",
      "source": [
        "for key in df_roubo_veiculos.keys():\n",
        "  df_roubo_veiculos[key].drop_duplicates(inplace = True)"
      ],
      "metadata": {
        "id": "F0mLQRlPULeV"
      },
      "execution_count": 150,
      "outputs": []
    },
    {
      "cell_type": "markdown",
      "source": [
        "Filtrando os dados para obter apenas os dados da cidade de São Paulo"
      ],
      "metadata": {
        "id": "DExSZbjK7gaL"
      }
    },
    {
      "cell_type": "code",
      "source": [
        "for key in df_roubo_veiculos.keys():\n",
        "  filtragem_sp = df_roubo_veiculos[key]['CIDADE_VEICULO'].str.contains(\"Paulo\", case = False, na=False)\n",
        "  df_roubo_veiculos[key] = df_roubo_veiculos[key][filtragem_sp]"
      ],
      "metadata": {
        "id": "dabLTZC1UP9z"
      },
      "execution_count": 151,
      "outputs": []
    },
    {
      "cell_type": "markdown",
      "source": [
        "Convertendo os tipos das colunas dos DataFrames para os tipos apropriados"
      ],
      "metadata": {
        "id": "4dP_Xkux7w3U"
      }
    },
    {
      "cell_type": "code",
      "source": [
        "for key in df_roubo_veiculos.keys():\n",
        "  df_roubo_veiculos[key] = df_roubo_veiculos[key].convert_dtypes()\n",
        "  df_roubo_veiculos[key]['NUMERO_BOLETIM'] = df_roubo_veiculos[key]['NUMERO_BOLETIM'].astype('string')\n",
        "  df_roubo_veiculos[key]['HORAOCORRENCIA'] = pd.to_datetime(df_roubo_veiculos[key]['HORAOCORRENCIA'], format='%H:%M:%S').dt.time\n",
        "  df_roubo_veiculos[key]['DATAOCORRENCIA'] = pd.to_datetime(df_roubo_veiculos[key]['DATAOCORRENCIA'], errors = 'coerce')\n",
        "  df_roubo_veiculos[key]['NATURALIDADE'] = df_roubo_veiculos[key]['NATURALIDADE'].astype('string')\n",
        "  df_roubo_veiculos[key]['NACIONALIDADE'] = df_roubo_veiculos[key]['NACIONALIDADE'].astype('string')\n",
        "  df_roubo_veiculos[key]['PLACA_VEICULO'] = df_roubo_veiculos[key]['PLACA_VEICULO'].astype('string')"
      ],
      "metadata": {
        "id": "2H3TvsmWUV6B"
      },
      "execution_count": 152,
      "outputs": []
    },
    {
      "cell_type": "markdown",
      "source": [
        "Transformando todas as strings para minúsculo"
      ],
      "metadata": {
        "id": "FGoIO_YQ739g"
      }
    },
    {
      "cell_type": "code",
      "source": [
        "for key in df_roubo_veiculos.keys():\n",
        "  for column in df_roubo_veiculos[key].columns:\n",
        "    if df_roubo_veiculos[key][column].dtype == 'string':\n",
        "      df_roubo_veiculos[key][column] = df_roubo_veiculos[key][column].str.lower()"
      ],
      "metadata": {
        "id": "nTYIJckAVFPJ"
      },
      "execution_count": 153,
      "outputs": []
    },
    {
      "cell_type": "markdown",
      "source": [
        "Removendo caracteres especiais das strings"
      ],
      "metadata": {
        "id": "qbivbWN48DM5"
      }
    },
    {
      "cell_type": "code",
      "source": [
        "import regex as re\n",
        "\n",
        "for key in df_roubo_veiculos.keys():\n",
        "  for column in df_roubo_veiculos[key].columns:\n",
        "   if df_roubo_veiculos[key][column].dtype == 'string':\n",
        "      df_roubo_veiculos[key][column] = df_roubo_veiculos[key][column].str.replace(r'[^\\w\\s]',' ')"
      ],
      "metadata": {
        "colab": {
          "base_uri": "https://localhost:8080/"
        },
        "id": "PtTN6PUSVUIa",
        "outputId": "cc579cd8-7016-4ecf-e8ff-a587b957edcc"
      },
      "execution_count": 154,
      "outputs": [
        {
          "output_type": "stream",
          "name": "stderr",
          "text": [
            "<ipython-input-154-2b36b4194660>:6: FutureWarning: The default value of regex will change from True to False in a future version.\n",
            "  df_roubo_veiculos[key][column] = df_roubo_veiculos[key][column].str.replace(r'[^\\w\\s]',' ')\n"
          ]
        }
      ]
    },
    {
      "cell_type": "markdown",
      "source": [
        "Substituindo vários espaços seguidos por apenas um, padronizando o espaçamento"
      ],
      "metadata": {
        "id": "H-5xmdrw8K0q"
      }
    },
    {
      "cell_type": "code",
      "source": [
        "for key in df_roubo_veiculos.keys():\n",
        "  for column in df_roubo_veiculos[key].columns:\n",
        "    if df_roubo_veiculos[key][column].dtype == 'string':\n",
        "      df_roubo_veiculos[key][column] = df_roubo_veiculos[key][column].str.replace(r'\\s+',' ', regex = True)"
      ],
      "metadata": {
        "id": "uSGN0cYvV2KV"
      },
      "execution_count": 155,
      "outputs": []
    },
    {
      "cell_type": "markdown",
      "source": [
        "Removendo acentos das palavras"
      ],
      "metadata": {
        "id": "CgUw5tMw8HAw"
      }
    },
    {
      "cell_type": "code",
      "source": [
        "for key in df_roubo_veiculos.keys():\n",
        "  for column in df_roubo_veiculos[key].columns:\n",
        "   if df_roubo_veiculos[key][column].dtype == 'string':\n",
        "      df_roubo_veiculos[key][column] = df_roubo_veiculos[key][column].str.normalize('NFKD').str.encode('ascii', errors = 'ignore').str.decode('utf-8')"
      ],
      "metadata": {
        "id": "cWFwK72JVm8c"
      },
      "execution_count": 156,
      "outputs": []
    },
    {
      "cell_type": "markdown",
      "source": [
        "Removendo qualquer espaçamento no começo ou fim de strings"
      ],
      "metadata": {
        "id": "SuZsLli68STj"
      }
    },
    {
      "cell_type": "code",
      "source": [
        "def remove_whitechar_beginend(a):\n",
        "  return a.strip()\n",
        "\n",
        "for key in df_roubo_veiculos.keys():\n",
        "  for column in df_roubo_veiculos[key].columns:\n",
        "    if df_roubo_veiculos[key][column].dtype == 'string':\n",
        "      df_roubo_veiculos[key][column] = df_roubo_veiculos[key][column].apply(remove_whitechar_beginend)"
      ],
      "metadata": {
        "id": "kK9bH9ygWELw"
      },
      "execution_count": 157,
      "outputs": []
    },
    {
      "cell_type": "markdown",
      "source": [
        "Exibindo um dos DataFrames do dicionário"
      ],
      "metadata": {
        "id": "5QK7dY6G8Wuq"
      }
    },
    {
      "cell_type": "code",
      "source": [
        "df_roubo_veiculos['DadosBO_2023_1(ROUBO DE VEÍCULO']"
      ],
      "metadata": {
        "colab": {
          "base_uri": "https://localhost:8080/",
          "height": 661
        },
        "id": "V3iVaslhWV9E",
        "outputId": "b127719b-8b64-4f3d-8084-f65755d4b145"
      },
      "execution_count": 161,
      "outputs": [
        {
          "output_type": "execute_result",
          "data": {
            "text/plain": [
              "       ANO_BO  NUM_BO NUMERO_BOLETIM         BO_INICIADO          BO_EMITIDO  \\\n",
              "0        2023    8696      8696 2023 2023-01-01 01:23:54 2023-01-01 01:23:58   \n",
              "1        2023      70        70 2023 2023-01-01 01:31:03 2023-01-01 01:31:03   \n",
              "7        2023      34        34 2023 2023-01-01 02:41:56 2023-01-01 02:41:56   \n",
              "22       2023    8697      8697 2023 2023-01-01 03:30:10 2023-01-01 03:30:10   \n",
              "24       2023    8697      8697 2023 2023-01-01 03:30:10 2023-01-01 03:30:10   \n",
              "...       ...     ...            ...                 ...                 ...   \n",
              "12964    2023  169665    169665 2023 2023-01-31 21:19:54 2023-01-31 21:19:57   \n",
              "12975    2023     500       500 2023 2023-01-31 22:57:51 2023-01-31 22:57:51   \n",
              "12977    2023  170023    170023 2023 2023-01-31 23:07:03 2023-01-31 23:07:06   \n",
              "12978    2023     982       982 2023 2023-01-31 23:28:40 2023-01-31 23:28:40   \n",
              "12980    2023  170223    170223 2023 2023-01-31 23:57:24 2023-01-31 23:57:28   \n",
              "\n",
              "      DATAOCORRENCIA HORAOCORRENCIA PERIDOOCORRENCIA DATACOMUNICACAO  \\\n",
              "0         2022-12-31       22:20:00          a noite      2022-12-31   \n",
              "1         2022-12-31       15:54:00          a tarde      2022-12-31   \n",
              "7         2022-12-31       23:50:00          a noite      2023-01-01   \n",
              "22        2022-12-31       22:20:00          a noite      2022-12-31   \n",
              "24        2022-12-31       22:20:00          a noite      2022-12-31   \n",
              "...              ...            ...              ...             ...   \n",
              "12964     2023-01-31       16:00:00          a tarde      2023-01-31   \n",
              "12975     2023-01-31       21:20:00          a noite      2023-01-31   \n",
              "12977     2023-01-31       20:17:00          a noite      2023-01-31   \n",
              "12978     2023-01-31       22:25:00          a noite      2023-01-31   \n",
              "12980     2023-01-31       19:55:00          a noite      2023-01-31   \n",
              "\n",
              "           DATAELABORACAO  ... PLACA_VEICULO UF_VEICULO CIDADE_VEICULO  \\\n",
              "0     2023-01-01 01:23:54  ...       fxz3h05         sp        s paulo   \n",
              "1     2023-01-01 01:31:03  ...       fkv8033         sp        s paulo   \n",
              "7     2023-01-01 02:41:56  ...       fey4426         sp        s paulo   \n",
              "22    2023-01-01 03:30:10  ...       fxz3h05         sp        s paulo   \n",
              "24    2023-01-01 03:30:10  ...       fxz3h05         sp        s paulo   \n",
              "...                   ...  ...           ...        ...            ...   \n",
              "12964 2023-01-31 21:19:54  ...       gfz8g17         sp        s paulo   \n",
              "12975 2023-01-31 22:57:51  ...       ezb6921         sp        s paulo   \n",
              "12977 2023-01-31 23:07:03  ...       ebg3309         sp        s paulo   \n",
              "12978 2023-01-31 23:28:40  ...       fuf5d21         sp        s paulo   \n",
              "12980 2023-01-31 23:57:24  ...       gcx3195         sp        s paulo   \n",
              "\n",
              "      DESCR_COR_VEICULO       DESCR_MARCA_VEICULO ANO_FABRICACAO ANO_MODELO  \\\n",
              "0                 preta         honda fit exl cvt           2021       <NA>   \n",
              "1                 preta  i honda cr v exl flex4wd           2013       2013   \n",
              "7                 verde   fiat doblo adv 1 8 flex           2012       2013   \n",
              "22                preta         honda fit exl cvt           2021       <NA>   \n",
              "24                preta         honda fit exl cvt           2021       <NA>   \n",
              "...                 ...                       ...            ...        ...   \n",
              "12964             prata        honda cg 160 start           2022       <NA>   \n",
              "12975             preta      chevrolet classic ls           2011       2012   \n",
              "12977           amarelo  fiat stilo sporting dual           2008       <NA>   \n",
              "12978          vermelho          honda cg 160 fan           2021       2021   \n",
              "12980             cinza                   ford ka           2019       <NA>   \n",
              "\n",
              "      DESCR_TIPO_VEICULO  QUANT_CELULAR  MARCA_CELULAR  \n",
              "0              automovel           <NA>           <NA>  \n",
              "1              camioneta           <NA>           <NA>  \n",
              "7              automovel           <NA>           <NA>  \n",
              "22             automovel           <NA>           <NA>  \n",
              "24             automovel           <NA>           <NA>  \n",
              "...                  ...            ...            ...  \n",
              "12964          motociclo           <NA>           <NA>  \n",
              "12975          automovel           <NA>           <NA>  \n",
              "12977          automovel           <NA>           <NA>  \n",
              "12978          motociclo           <NA>           <NA>  \n",
              "12980          automovel           <NA>           <NA>  \n",
              "\n",
              "[2924 rows x 54 columns]"
            ],
            "text/html": [
              "\n",
              "  <div id=\"df-f0528032-c44e-42c6-913b-6c782d15652e\">\n",
              "    <div class=\"colab-df-container\">\n",
              "      <div>\n",
              "<style scoped>\n",
              "    .dataframe tbody tr th:only-of-type {\n",
              "        vertical-align: middle;\n",
              "    }\n",
              "\n",
              "    .dataframe tbody tr th {\n",
              "        vertical-align: top;\n",
              "    }\n",
              "\n",
              "    .dataframe thead th {\n",
              "        text-align: right;\n",
              "    }\n",
              "</style>\n",
              "<table border=\"1\" class=\"dataframe\">\n",
              "  <thead>\n",
              "    <tr style=\"text-align: right;\">\n",
              "      <th></th>\n",
              "      <th>ANO_BO</th>\n",
              "      <th>NUM_BO</th>\n",
              "      <th>NUMERO_BOLETIM</th>\n",
              "      <th>BO_INICIADO</th>\n",
              "      <th>BO_EMITIDO</th>\n",
              "      <th>DATAOCORRENCIA</th>\n",
              "      <th>HORAOCORRENCIA</th>\n",
              "      <th>PERIDOOCORRENCIA</th>\n",
              "      <th>DATACOMUNICACAO</th>\n",
              "      <th>DATAELABORACAO</th>\n",
              "      <th>...</th>\n",
              "      <th>PLACA_VEICULO</th>\n",
              "      <th>UF_VEICULO</th>\n",
              "      <th>CIDADE_VEICULO</th>\n",
              "      <th>DESCR_COR_VEICULO</th>\n",
              "      <th>DESCR_MARCA_VEICULO</th>\n",
              "      <th>ANO_FABRICACAO</th>\n",
              "      <th>ANO_MODELO</th>\n",
              "      <th>DESCR_TIPO_VEICULO</th>\n",
              "      <th>QUANT_CELULAR</th>\n",
              "      <th>MARCA_CELULAR</th>\n",
              "    </tr>\n",
              "  </thead>\n",
              "  <tbody>\n",
              "    <tr>\n",
              "      <th>0</th>\n",
              "      <td>2023</td>\n",
              "      <td>8696</td>\n",
              "      <td>8696 2023</td>\n",
              "      <td>2023-01-01 01:23:54</td>\n",
              "      <td>2023-01-01 01:23:58</td>\n",
              "      <td>2022-12-31</td>\n",
              "      <td>22:20:00</td>\n",
              "      <td>a noite</td>\n",
              "      <td>2022-12-31</td>\n",
              "      <td>2023-01-01 01:23:54</td>\n",
              "      <td>...</td>\n",
              "      <td>fxz3h05</td>\n",
              "      <td>sp</td>\n",
              "      <td>s paulo</td>\n",
              "      <td>preta</td>\n",
              "      <td>honda fit exl cvt</td>\n",
              "      <td>2021</td>\n",
              "      <td>&lt;NA&gt;</td>\n",
              "      <td>automovel</td>\n",
              "      <td>&lt;NA&gt;</td>\n",
              "      <td>&lt;NA&gt;</td>\n",
              "    </tr>\n",
              "    <tr>\n",
              "      <th>1</th>\n",
              "      <td>2023</td>\n",
              "      <td>70</td>\n",
              "      <td>70 2023</td>\n",
              "      <td>2023-01-01 01:31:03</td>\n",
              "      <td>2023-01-01 01:31:03</td>\n",
              "      <td>2022-12-31</td>\n",
              "      <td>15:54:00</td>\n",
              "      <td>a tarde</td>\n",
              "      <td>2022-12-31</td>\n",
              "      <td>2023-01-01 01:31:03</td>\n",
              "      <td>...</td>\n",
              "      <td>fkv8033</td>\n",
              "      <td>sp</td>\n",
              "      <td>s paulo</td>\n",
              "      <td>preta</td>\n",
              "      <td>i honda cr v exl flex4wd</td>\n",
              "      <td>2013</td>\n",
              "      <td>2013</td>\n",
              "      <td>camioneta</td>\n",
              "      <td>&lt;NA&gt;</td>\n",
              "      <td>&lt;NA&gt;</td>\n",
              "    </tr>\n",
              "    <tr>\n",
              "      <th>7</th>\n",
              "      <td>2023</td>\n",
              "      <td>34</td>\n",
              "      <td>34 2023</td>\n",
              "      <td>2023-01-01 02:41:56</td>\n",
              "      <td>2023-01-01 02:41:56</td>\n",
              "      <td>2022-12-31</td>\n",
              "      <td>23:50:00</td>\n",
              "      <td>a noite</td>\n",
              "      <td>2023-01-01</td>\n",
              "      <td>2023-01-01 02:41:56</td>\n",
              "      <td>...</td>\n",
              "      <td>fey4426</td>\n",
              "      <td>sp</td>\n",
              "      <td>s paulo</td>\n",
              "      <td>verde</td>\n",
              "      <td>fiat doblo adv 1 8 flex</td>\n",
              "      <td>2012</td>\n",
              "      <td>2013</td>\n",
              "      <td>automovel</td>\n",
              "      <td>&lt;NA&gt;</td>\n",
              "      <td>&lt;NA&gt;</td>\n",
              "    </tr>\n",
              "    <tr>\n",
              "      <th>22</th>\n",
              "      <td>2023</td>\n",
              "      <td>8697</td>\n",
              "      <td>8697 2023</td>\n",
              "      <td>2023-01-01 03:30:10</td>\n",
              "      <td>2023-01-01 03:30:10</td>\n",
              "      <td>2022-12-31</td>\n",
              "      <td>22:20:00</td>\n",
              "      <td>a noite</td>\n",
              "      <td>2022-12-31</td>\n",
              "      <td>2023-01-01 03:30:10</td>\n",
              "      <td>...</td>\n",
              "      <td>fxz3h05</td>\n",
              "      <td>sp</td>\n",
              "      <td>s paulo</td>\n",
              "      <td>preta</td>\n",
              "      <td>honda fit exl cvt</td>\n",
              "      <td>2021</td>\n",
              "      <td>&lt;NA&gt;</td>\n",
              "      <td>automovel</td>\n",
              "      <td>&lt;NA&gt;</td>\n",
              "      <td>&lt;NA&gt;</td>\n",
              "    </tr>\n",
              "    <tr>\n",
              "      <th>24</th>\n",
              "      <td>2023</td>\n",
              "      <td>8697</td>\n",
              "      <td>8697 2023</td>\n",
              "      <td>2023-01-01 03:30:10</td>\n",
              "      <td>2023-01-01 03:30:10</td>\n",
              "      <td>2022-12-31</td>\n",
              "      <td>22:20:00</td>\n",
              "      <td>a noite</td>\n",
              "      <td>2022-12-31</td>\n",
              "      <td>2023-01-01 03:30:10</td>\n",
              "      <td>...</td>\n",
              "      <td>fxz3h05</td>\n",
              "      <td>sp</td>\n",
              "      <td>s paulo</td>\n",
              "      <td>preta</td>\n",
              "      <td>honda fit exl cvt</td>\n",
              "      <td>2021</td>\n",
              "      <td>&lt;NA&gt;</td>\n",
              "      <td>automovel</td>\n",
              "      <td>&lt;NA&gt;</td>\n",
              "      <td>&lt;NA&gt;</td>\n",
              "    </tr>\n",
              "    <tr>\n",
              "      <th>...</th>\n",
              "      <td>...</td>\n",
              "      <td>...</td>\n",
              "      <td>...</td>\n",
              "      <td>...</td>\n",
              "      <td>...</td>\n",
              "      <td>...</td>\n",
              "      <td>...</td>\n",
              "      <td>...</td>\n",
              "      <td>...</td>\n",
              "      <td>...</td>\n",
              "      <td>...</td>\n",
              "      <td>...</td>\n",
              "      <td>...</td>\n",
              "      <td>...</td>\n",
              "      <td>...</td>\n",
              "      <td>...</td>\n",
              "      <td>...</td>\n",
              "      <td>...</td>\n",
              "      <td>...</td>\n",
              "      <td>...</td>\n",
              "      <td>...</td>\n",
              "    </tr>\n",
              "    <tr>\n",
              "      <th>12964</th>\n",
              "      <td>2023</td>\n",
              "      <td>169665</td>\n",
              "      <td>169665 2023</td>\n",
              "      <td>2023-01-31 21:19:54</td>\n",
              "      <td>2023-01-31 21:19:57</td>\n",
              "      <td>2023-01-31</td>\n",
              "      <td>16:00:00</td>\n",
              "      <td>a tarde</td>\n",
              "      <td>2023-01-31</td>\n",
              "      <td>2023-01-31 21:19:54</td>\n",
              "      <td>...</td>\n",
              "      <td>gfz8g17</td>\n",
              "      <td>sp</td>\n",
              "      <td>s paulo</td>\n",
              "      <td>prata</td>\n",
              "      <td>honda cg 160 start</td>\n",
              "      <td>2022</td>\n",
              "      <td>&lt;NA&gt;</td>\n",
              "      <td>motociclo</td>\n",
              "      <td>&lt;NA&gt;</td>\n",
              "      <td>&lt;NA&gt;</td>\n",
              "    </tr>\n",
              "    <tr>\n",
              "      <th>12975</th>\n",
              "      <td>2023</td>\n",
              "      <td>500</td>\n",
              "      <td>500 2023</td>\n",
              "      <td>2023-01-31 22:57:51</td>\n",
              "      <td>2023-01-31 22:57:51</td>\n",
              "      <td>2023-01-31</td>\n",
              "      <td>21:20:00</td>\n",
              "      <td>a noite</td>\n",
              "      <td>2023-01-31</td>\n",
              "      <td>2023-01-31 22:57:51</td>\n",
              "      <td>...</td>\n",
              "      <td>ezb6921</td>\n",
              "      <td>sp</td>\n",
              "      <td>s paulo</td>\n",
              "      <td>preta</td>\n",
              "      <td>chevrolet classic ls</td>\n",
              "      <td>2011</td>\n",
              "      <td>2012</td>\n",
              "      <td>automovel</td>\n",
              "      <td>&lt;NA&gt;</td>\n",
              "      <td>&lt;NA&gt;</td>\n",
              "    </tr>\n",
              "    <tr>\n",
              "      <th>12977</th>\n",
              "      <td>2023</td>\n",
              "      <td>170023</td>\n",
              "      <td>170023 2023</td>\n",
              "      <td>2023-01-31 23:07:03</td>\n",
              "      <td>2023-01-31 23:07:06</td>\n",
              "      <td>2023-01-31</td>\n",
              "      <td>20:17:00</td>\n",
              "      <td>a noite</td>\n",
              "      <td>2023-01-31</td>\n",
              "      <td>2023-01-31 23:07:03</td>\n",
              "      <td>...</td>\n",
              "      <td>ebg3309</td>\n",
              "      <td>sp</td>\n",
              "      <td>s paulo</td>\n",
              "      <td>amarelo</td>\n",
              "      <td>fiat stilo sporting dual</td>\n",
              "      <td>2008</td>\n",
              "      <td>&lt;NA&gt;</td>\n",
              "      <td>automovel</td>\n",
              "      <td>&lt;NA&gt;</td>\n",
              "      <td>&lt;NA&gt;</td>\n",
              "    </tr>\n",
              "    <tr>\n",
              "      <th>12978</th>\n",
              "      <td>2023</td>\n",
              "      <td>982</td>\n",
              "      <td>982 2023</td>\n",
              "      <td>2023-01-31 23:28:40</td>\n",
              "      <td>2023-01-31 23:28:40</td>\n",
              "      <td>2023-01-31</td>\n",
              "      <td>22:25:00</td>\n",
              "      <td>a noite</td>\n",
              "      <td>2023-01-31</td>\n",
              "      <td>2023-01-31 23:28:40</td>\n",
              "      <td>...</td>\n",
              "      <td>fuf5d21</td>\n",
              "      <td>sp</td>\n",
              "      <td>s paulo</td>\n",
              "      <td>vermelho</td>\n",
              "      <td>honda cg 160 fan</td>\n",
              "      <td>2021</td>\n",
              "      <td>2021</td>\n",
              "      <td>motociclo</td>\n",
              "      <td>&lt;NA&gt;</td>\n",
              "      <td>&lt;NA&gt;</td>\n",
              "    </tr>\n",
              "    <tr>\n",
              "      <th>12980</th>\n",
              "      <td>2023</td>\n",
              "      <td>170223</td>\n",
              "      <td>170223 2023</td>\n",
              "      <td>2023-01-31 23:57:24</td>\n",
              "      <td>2023-01-31 23:57:28</td>\n",
              "      <td>2023-01-31</td>\n",
              "      <td>19:55:00</td>\n",
              "      <td>a noite</td>\n",
              "      <td>2023-01-31</td>\n",
              "      <td>2023-01-31 23:57:24</td>\n",
              "      <td>...</td>\n",
              "      <td>gcx3195</td>\n",
              "      <td>sp</td>\n",
              "      <td>s paulo</td>\n",
              "      <td>cinza</td>\n",
              "      <td>ford ka</td>\n",
              "      <td>2019</td>\n",
              "      <td>&lt;NA&gt;</td>\n",
              "      <td>automovel</td>\n",
              "      <td>&lt;NA&gt;</td>\n",
              "      <td>&lt;NA&gt;</td>\n",
              "    </tr>\n",
              "  </tbody>\n",
              "</table>\n",
              "<p>2924 rows × 54 columns</p>\n",
              "</div>\n",
              "      <button class=\"colab-df-convert\" onclick=\"convertToInteractive('df-f0528032-c44e-42c6-913b-6c782d15652e')\"\n",
              "              title=\"Convert this dataframe to an interactive table.\"\n",
              "              style=\"display:none;\">\n",
              "        \n",
              "  <svg xmlns=\"http://www.w3.org/2000/svg\" height=\"24px\"viewBox=\"0 0 24 24\"\n",
              "       width=\"24px\">\n",
              "    <path d=\"M0 0h24v24H0V0z\" fill=\"none\"/>\n",
              "    <path d=\"M18.56 5.44l.94 2.06.94-2.06 2.06-.94-2.06-.94-.94-2.06-.94 2.06-2.06.94zm-11 1L8.5 8.5l.94-2.06 2.06-.94-2.06-.94L8.5 2.5l-.94 2.06-2.06.94zm10 10l.94 2.06.94-2.06 2.06-.94-2.06-.94-.94-2.06-.94 2.06-2.06.94z\"/><path d=\"M17.41 7.96l-1.37-1.37c-.4-.4-.92-.59-1.43-.59-.52 0-1.04.2-1.43.59L10.3 9.45l-7.72 7.72c-.78.78-.78 2.05 0 2.83L4 21.41c.39.39.9.59 1.41.59.51 0 1.02-.2 1.41-.59l7.78-7.78 2.81-2.81c.8-.78.8-2.07 0-2.86zM5.41 20L4 18.59l7.72-7.72 1.47 1.35L5.41 20z\"/>\n",
              "  </svg>\n",
              "      </button>\n",
              "      \n",
              "  <style>\n",
              "    .colab-df-container {\n",
              "      display:flex;\n",
              "      flex-wrap:wrap;\n",
              "      gap: 12px;\n",
              "    }\n",
              "\n",
              "    .colab-df-convert {\n",
              "      background-color: #E8F0FE;\n",
              "      border: none;\n",
              "      border-radius: 50%;\n",
              "      cursor: pointer;\n",
              "      display: none;\n",
              "      fill: #1967D2;\n",
              "      height: 32px;\n",
              "      padding: 0 0 0 0;\n",
              "      width: 32px;\n",
              "    }\n",
              "\n",
              "    .colab-df-convert:hover {\n",
              "      background-color: #E2EBFA;\n",
              "      box-shadow: 0px 1px 2px rgba(60, 64, 67, 0.3), 0px 1px 3px 1px rgba(60, 64, 67, 0.15);\n",
              "      fill: #174EA6;\n",
              "    }\n",
              "\n",
              "    [theme=dark] .colab-df-convert {\n",
              "      background-color: #3B4455;\n",
              "      fill: #D2E3FC;\n",
              "    }\n",
              "\n",
              "    [theme=dark] .colab-df-convert:hover {\n",
              "      background-color: #434B5C;\n",
              "      box-shadow: 0px 1px 3px 1px rgba(0, 0, 0, 0.15);\n",
              "      filter: drop-shadow(0px 1px 2px rgba(0, 0, 0, 0.3));\n",
              "      fill: #FFFFFF;\n",
              "    }\n",
              "  </style>\n",
              "\n",
              "      <script>\n",
              "        const buttonEl =\n",
              "          document.querySelector('#df-f0528032-c44e-42c6-913b-6c782d15652e button.colab-df-convert');\n",
              "        buttonEl.style.display =\n",
              "          google.colab.kernel.accessAllowed ? 'block' : 'none';\n",
              "\n",
              "        async function convertToInteractive(key) {\n",
              "          const element = document.querySelector('#df-f0528032-c44e-42c6-913b-6c782d15652e');\n",
              "          const dataTable =\n",
              "            await google.colab.kernel.invokeFunction('convertToInteractive',\n",
              "                                                     [key], {});\n",
              "          if (!dataTable) return;\n",
              "\n",
              "          const docLinkHtml = 'Like what you see? Visit the ' +\n",
              "            '<a target=\"_blank\" href=https://colab.research.google.com/notebooks/data_table.ipynb>data table notebook</a>'\n",
              "            + ' to learn more about interactive tables.';\n",
              "          element.innerHTML = '';\n",
              "          dataTable['output_type'] = 'display_data';\n",
              "          await google.colab.output.renderOutput(dataTable, element);\n",
              "          const docLink = document.createElement('div');\n",
              "          docLink.innerHTML = docLinkHtml;\n",
              "          element.appendChild(docLink);\n",
              "        }\n",
              "      </script>\n",
              "    </div>\n",
              "  </div>\n",
              "  "
            ]
          },
          "metadata": {},
          "execution_count": 161
        }
      ]
    },
    {
      "cell_type": "markdown",
      "source": [
        "Criando novas colunas nos DataFrames a partir de colunas já existentes\n",
        "\n",
        "As novas colunas são relacionadas a dados temporais\n",
        "\n",
        "Estamos separando uma coluna que contém sozinha dia, mês, ano e horário em diferentes colunas(uma específica para o dia, outra para o mês e assim por diante) "
      ],
      "metadata": {
        "id": "N-haxXa28aUt"
      }
    },
    {
      "cell_type": "code",
      "source": [
        "for key in df_roubo_veiculos.keys():\n",
        "  df_roubo_veiculos[key]['DIA_BO_EMITIDO'] = pd.DatetimeIndex(df_roubo_veiculos[key]['BO_EMITIDO']).day\n",
        "  df_roubo_veiculos[key]['DIA_BO_INICIADO'] = pd.DatetimeIndex(df_roubo_veiculos[key]['BO_INICIADO']).day\n",
        "  df_roubo_veiculos[key]['MES_BO_EMITIDO'] = pd.DatetimeIndex(df_roubo_veiculos[key]['BO_EMITIDO']).month\n",
        "  df_roubo_veiculos[key]['MES_BO_INICIADO'] = pd.DatetimeIndex(df_roubo_veiculos[key]['BO_INICIADO']).month\n",
        "  df_roubo_veiculos[key]['ANO_BO_EMITIDO'] = pd.DatetimeIndex(df_roubo_veiculos[key]['BO_EMITIDO']).year\n",
        "  df_roubo_veiculos[key]['ANO_BO_INICIADO'] = pd.DatetimeIndex(df_roubo_veiculos[key]['BO_INICIADO']).year\n",
        "  df_roubo_veiculos[key]['HORARIO_BO_EMITIDO'] = pd.DatetimeIndex(df_roubo_veiculos[key]['BO_EMITIDO']).time\n",
        "  df_roubo_veiculos[key]['HORARIO_BO_INICIADO'] = pd.DatetimeIndex(df_roubo_veiculos[key]['BO_INICIADO']).time\n",
        "  df_roubo_veiculos[key]['DIA_OCORRENCIA'] = pd.DatetimeIndex(df_roubo_veiculos[key]['DATAOCORRENCIA']).day\n",
        "  df_roubo_veiculos[key]['MES_OCORRENCIA'] = pd.DatetimeIndex(df_roubo_veiculos[key]['DATAOCORRENCIA']).month\n",
        "  df_roubo_veiculos[key]['ANO_OCORRENCIA'] = pd.DatetimeIndex(df_roubo_veiculos[key]['DATAOCORRENCIA']).year\n",
        "  df_roubo_veiculos[key]['DIA_COMUNICACAO'] = pd.DatetimeIndex(df_roubo_veiculos[key]['DATACOMUNICACAO']).day\n",
        "  df_roubo_veiculos[key]['MES_COMUNICACAO'] = pd.DatetimeIndex(df_roubo_veiculos[key]['DATACOMUNICACAO']).month\n",
        "  df_roubo_veiculos[key]['ANO_COMUNICACAO'] = pd.DatetimeIndex(df_roubo_veiculos[key]['DATACOMUNICACAO']).year\n",
        "  df_roubo_veiculos[key]['DIA_ELABORACAO'] = pd.DatetimeIndex(df_roubo_veiculos[key]['DATAELABORACAO']).day\n",
        "  df_roubo_veiculos[key]['MES_ELABORACAO'] = pd.DatetimeIndex(df_roubo_veiculos[key]['DATAELABORACAO']).month\n",
        "  df_roubo_veiculos[key]['ANO_ELABORACAO'] = pd.DatetimeIndex(df_roubo_veiculos[key]['DATAELABORACAO']).year\n",
        "  df_roubo_veiculos[key]['HORARIO_ELABORACAO'] = pd.DatetimeIndex(df_roubo_veiculos[key]['DATAELABORACAO']).time"
      ],
      "metadata": {
        "id": "cvXxE7gnZUoT"
      },
      "execution_count": 164,
      "outputs": []
    },
    {
      "cell_type": "markdown",
      "source": [
        "Removendo as colunas usadas anteriormente para não conter dados redudantes"
      ],
      "metadata": {
        "id": "E8jFc5Qh9CyJ"
      }
    },
    {
      "cell_type": "code",
      "source": [
        "for key in df_roubo_veiculos.keys():\n",
        "  df_roubo_veiculos[key] = df_roubo_veiculos[key].drop(columns = ['BO_EMITIDO', 'BO_INICIADO', 'DATACOMUNICACAO', 'DATAOCORRENCIA', 'DATAELABORACAO'])"
      ],
      "metadata": {
        "id": "UGRJLOJLaT9d"
      },
      "execution_count": 165,
      "outputs": []
    },
    {
      "cell_type": "markdown",
      "source": [
        "Exibindo um dos DataFrames do dicionário"
      ],
      "metadata": {
        "id": "hBiR95uL-EBy"
      }
    },
    {
      "cell_type": "code",
      "source": [
        "df_roubo_veiculos['DadosBO_2023_1(ROUBO DE VEÍCULO']"
      ],
      "metadata": {
        "colab": {
          "base_uri": "https://localhost:8080/",
          "height": 713
        },
        "id": "en83mIkNaUed",
        "outputId": "c3ed9957-58c3-4b0b-bd43-1d7ebc270174"
      },
      "execution_count": 166,
      "outputs": [
        {
          "output_type": "execute_result",
          "data": {
            "text/plain": [
              "       ANO_BO  NUM_BO NUMERO_BOLETIM HORAOCORRENCIA PERIDOOCORRENCIA  \\\n",
              "0        2023    8696      8696 2023       22:20:00          a noite   \n",
              "1        2023      70        70 2023       15:54:00          a tarde   \n",
              "7        2023      34        34 2023       23:50:00          a noite   \n",
              "22       2023    8697      8697 2023       22:20:00          a noite   \n",
              "24       2023    8697      8697 2023       22:20:00          a noite   \n",
              "...       ...     ...            ...            ...              ...   \n",
              "12964    2023  169665    169665 2023       16:00:00          a tarde   \n",
              "12975    2023     500       500 2023       21:20:00          a noite   \n",
              "12977    2023  170023    170023 2023       20:17:00          a noite   \n",
              "12978    2023     982       982 2023       22:25:00          a noite   \n",
              "12980    2023  170223    170223 2023       19:55:00          a noite   \n",
              "\n",
              "         BO_AUTORIA FLAGRANTE NUMERO_BOLETIM_PRINCIPAL  \\\n",
              "0      desconhecida       nao                     <NA>   \n",
              "1         conhecida       nao           69 2023 170410   \n",
              "7      desconhecida       nao                     <NA>   \n",
              "22     desconhecida       nao         8696 2023 900020   \n",
              "24     desconhecida       nao         8696 2023 900020   \n",
              "...             ...       ...                      ...   \n",
              "12964  desconhecida       nao                      NaN   \n",
              "12975  desconhecida       nao                      NaN   \n",
              "12977  desconhecida       nao                      NaN   \n",
              "12978  desconhecida       nao                      NaN   \n",
              "12980  desconhecida       nao                      NaN   \n",
              "\n",
              "                     LOGRADOURO  NUMERO  ... DIA_OCORRENCIA MES_OCORRENCIA  \\\n",
              "0            rua tokuchika miki     700  ...             31             12   \n",
              "1                  rua evolucao     336  ...             31             12   \n",
              "7          rua ushikichi kamiya    2855  ...             31             12   \n",
              "22           rua tokuchika miki     700  ...             31             12   \n",
              "24           rua tokuchika miki     700  ...             31             12   \n",
              "...                         ...     ...  ...            ...            ...   \n",
              "12964  estrada samuel aizemberg     506  ...             31              1   \n",
              "12975               rua tolstoi     245  ...             31              1   \n",
              "12977         rua rosa kasinski    1401  ...             31              1   \n",
              "12978              rua oratorio    3019  ...             31              1   \n",
              "12980      rua nicola cagliotti     249  ...             31              1   \n",
              "\n",
              "      ANO_OCORRENCIA  DIA_COMUNICACAO  MES_COMUNICACAO ANO_COMUNICACAO  \\\n",
              "0               2022               31               12            2022   \n",
              "1               2022               31               12            2022   \n",
              "7               2022                1                1            2023   \n",
              "22              2022               31               12            2022   \n",
              "24              2022               31               12            2022   \n",
              "...              ...              ...              ...             ...   \n",
              "12964           2023               31                1            2023   \n",
              "12975           2023               31                1            2023   \n",
              "12977           2023               31                1            2023   \n",
              "12978           2023               31                1            2023   \n",
              "12980           2023               31                1            2023   \n",
              "\n",
              "       DIA_ELABORACAO MES_ELABORACAO ANO_ELABORACAO HORARIO_ELABORACAO  \n",
              "0                   1              1           2023           01:23:54  \n",
              "1                   1              1           2023           01:31:03  \n",
              "7                   1              1           2023           02:41:56  \n",
              "22                  1              1           2023           03:30:10  \n",
              "24                  1              1           2023           03:30:10  \n",
              "...               ...            ...            ...                ...  \n",
              "12964              31              1           2023           21:19:54  \n",
              "12975              31              1           2023           22:57:51  \n",
              "12977              31              1           2023           23:07:03  \n",
              "12978              31              1           2023           23:28:40  \n",
              "12980              31              1           2023           23:57:24  \n",
              "\n",
              "[2924 rows x 67 columns]"
            ],
            "text/html": [
              "\n",
              "  <div id=\"df-68dfaa45-ad44-46d4-b765-01e19c9b89f0\">\n",
              "    <div class=\"colab-df-container\">\n",
              "      <div>\n",
              "<style scoped>\n",
              "    .dataframe tbody tr th:only-of-type {\n",
              "        vertical-align: middle;\n",
              "    }\n",
              "\n",
              "    .dataframe tbody tr th {\n",
              "        vertical-align: top;\n",
              "    }\n",
              "\n",
              "    .dataframe thead th {\n",
              "        text-align: right;\n",
              "    }\n",
              "</style>\n",
              "<table border=\"1\" class=\"dataframe\">\n",
              "  <thead>\n",
              "    <tr style=\"text-align: right;\">\n",
              "      <th></th>\n",
              "      <th>ANO_BO</th>\n",
              "      <th>NUM_BO</th>\n",
              "      <th>NUMERO_BOLETIM</th>\n",
              "      <th>HORAOCORRENCIA</th>\n",
              "      <th>PERIDOOCORRENCIA</th>\n",
              "      <th>BO_AUTORIA</th>\n",
              "      <th>FLAGRANTE</th>\n",
              "      <th>NUMERO_BOLETIM_PRINCIPAL</th>\n",
              "      <th>LOGRADOURO</th>\n",
              "      <th>NUMERO</th>\n",
              "      <th>...</th>\n",
              "      <th>DIA_OCORRENCIA</th>\n",
              "      <th>MES_OCORRENCIA</th>\n",
              "      <th>ANO_OCORRENCIA</th>\n",
              "      <th>DIA_COMUNICACAO</th>\n",
              "      <th>MES_COMUNICACAO</th>\n",
              "      <th>ANO_COMUNICACAO</th>\n",
              "      <th>DIA_ELABORACAO</th>\n",
              "      <th>MES_ELABORACAO</th>\n",
              "      <th>ANO_ELABORACAO</th>\n",
              "      <th>HORARIO_ELABORACAO</th>\n",
              "    </tr>\n",
              "  </thead>\n",
              "  <tbody>\n",
              "    <tr>\n",
              "      <th>0</th>\n",
              "      <td>2023</td>\n",
              "      <td>8696</td>\n",
              "      <td>8696 2023</td>\n",
              "      <td>22:20:00</td>\n",
              "      <td>a noite</td>\n",
              "      <td>desconhecida</td>\n",
              "      <td>nao</td>\n",
              "      <td>&lt;NA&gt;</td>\n",
              "      <td>rua tokuchika miki</td>\n",
              "      <td>700</td>\n",
              "      <td>...</td>\n",
              "      <td>31</td>\n",
              "      <td>12</td>\n",
              "      <td>2022</td>\n",
              "      <td>31</td>\n",
              "      <td>12</td>\n",
              "      <td>2022</td>\n",
              "      <td>1</td>\n",
              "      <td>1</td>\n",
              "      <td>2023</td>\n",
              "      <td>01:23:54</td>\n",
              "    </tr>\n",
              "    <tr>\n",
              "      <th>1</th>\n",
              "      <td>2023</td>\n",
              "      <td>70</td>\n",
              "      <td>70 2023</td>\n",
              "      <td>15:54:00</td>\n",
              "      <td>a tarde</td>\n",
              "      <td>conhecida</td>\n",
              "      <td>nao</td>\n",
              "      <td>69 2023 170410</td>\n",
              "      <td>rua evolucao</td>\n",
              "      <td>336</td>\n",
              "      <td>...</td>\n",
              "      <td>31</td>\n",
              "      <td>12</td>\n",
              "      <td>2022</td>\n",
              "      <td>31</td>\n",
              "      <td>12</td>\n",
              "      <td>2022</td>\n",
              "      <td>1</td>\n",
              "      <td>1</td>\n",
              "      <td>2023</td>\n",
              "      <td>01:31:03</td>\n",
              "    </tr>\n",
              "    <tr>\n",
              "      <th>7</th>\n",
              "      <td>2023</td>\n",
              "      <td>34</td>\n",
              "      <td>34 2023</td>\n",
              "      <td>23:50:00</td>\n",
              "      <td>a noite</td>\n",
              "      <td>desconhecida</td>\n",
              "      <td>nao</td>\n",
              "      <td>&lt;NA&gt;</td>\n",
              "      <td>rua ushikichi kamiya</td>\n",
              "      <td>2855</td>\n",
              "      <td>...</td>\n",
              "      <td>31</td>\n",
              "      <td>12</td>\n",
              "      <td>2022</td>\n",
              "      <td>1</td>\n",
              "      <td>1</td>\n",
              "      <td>2023</td>\n",
              "      <td>1</td>\n",
              "      <td>1</td>\n",
              "      <td>2023</td>\n",
              "      <td>02:41:56</td>\n",
              "    </tr>\n",
              "    <tr>\n",
              "      <th>22</th>\n",
              "      <td>2023</td>\n",
              "      <td>8697</td>\n",
              "      <td>8697 2023</td>\n",
              "      <td>22:20:00</td>\n",
              "      <td>a noite</td>\n",
              "      <td>desconhecida</td>\n",
              "      <td>nao</td>\n",
              "      <td>8696 2023 900020</td>\n",
              "      <td>rua tokuchika miki</td>\n",
              "      <td>700</td>\n",
              "      <td>...</td>\n",
              "      <td>31</td>\n",
              "      <td>12</td>\n",
              "      <td>2022</td>\n",
              "      <td>31</td>\n",
              "      <td>12</td>\n",
              "      <td>2022</td>\n",
              "      <td>1</td>\n",
              "      <td>1</td>\n",
              "      <td>2023</td>\n",
              "      <td>03:30:10</td>\n",
              "    </tr>\n",
              "    <tr>\n",
              "      <th>24</th>\n",
              "      <td>2023</td>\n",
              "      <td>8697</td>\n",
              "      <td>8697 2023</td>\n",
              "      <td>22:20:00</td>\n",
              "      <td>a noite</td>\n",
              "      <td>desconhecida</td>\n",
              "      <td>nao</td>\n",
              "      <td>8696 2023 900020</td>\n",
              "      <td>rua tokuchika miki</td>\n",
              "      <td>700</td>\n",
              "      <td>...</td>\n",
              "      <td>31</td>\n",
              "      <td>12</td>\n",
              "      <td>2022</td>\n",
              "      <td>31</td>\n",
              "      <td>12</td>\n",
              "      <td>2022</td>\n",
              "      <td>1</td>\n",
              "      <td>1</td>\n",
              "      <td>2023</td>\n",
              "      <td>03:30:10</td>\n",
              "    </tr>\n",
              "    <tr>\n",
              "      <th>...</th>\n",
              "      <td>...</td>\n",
              "      <td>...</td>\n",
              "      <td>...</td>\n",
              "      <td>...</td>\n",
              "      <td>...</td>\n",
              "      <td>...</td>\n",
              "      <td>...</td>\n",
              "      <td>...</td>\n",
              "      <td>...</td>\n",
              "      <td>...</td>\n",
              "      <td>...</td>\n",
              "      <td>...</td>\n",
              "      <td>...</td>\n",
              "      <td>...</td>\n",
              "      <td>...</td>\n",
              "      <td>...</td>\n",
              "      <td>...</td>\n",
              "      <td>...</td>\n",
              "      <td>...</td>\n",
              "      <td>...</td>\n",
              "      <td>...</td>\n",
              "    </tr>\n",
              "    <tr>\n",
              "      <th>12964</th>\n",
              "      <td>2023</td>\n",
              "      <td>169665</td>\n",
              "      <td>169665 2023</td>\n",
              "      <td>16:00:00</td>\n",
              "      <td>a tarde</td>\n",
              "      <td>desconhecida</td>\n",
              "      <td>nao</td>\n",
              "      <td>NaN</td>\n",
              "      <td>estrada samuel aizemberg</td>\n",
              "      <td>506</td>\n",
              "      <td>...</td>\n",
              "      <td>31</td>\n",
              "      <td>1</td>\n",
              "      <td>2023</td>\n",
              "      <td>31</td>\n",
              "      <td>1</td>\n",
              "      <td>2023</td>\n",
              "      <td>31</td>\n",
              "      <td>1</td>\n",
              "      <td>2023</td>\n",
              "      <td>21:19:54</td>\n",
              "    </tr>\n",
              "    <tr>\n",
              "      <th>12975</th>\n",
              "      <td>2023</td>\n",
              "      <td>500</td>\n",
              "      <td>500 2023</td>\n",
              "      <td>21:20:00</td>\n",
              "      <td>a noite</td>\n",
              "      <td>desconhecida</td>\n",
              "      <td>nao</td>\n",
              "      <td>NaN</td>\n",
              "      <td>rua tolstoi</td>\n",
              "      <td>245</td>\n",
              "      <td>...</td>\n",
              "      <td>31</td>\n",
              "      <td>1</td>\n",
              "      <td>2023</td>\n",
              "      <td>31</td>\n",
              "      <td>1</td>\n",
              "      <td>2023</td>\n",
              "      <td>31</td>\n",
              "      <td>1</td>\n",
              "      <td>2023</td>\n",
              "      <td>22:57:51</td>\n",
              "    </tr>\n",
              "    <tr>\n",
              "      <th>12977</th>\n",
              "      <td>2023</td>\n",
              "      <td>170023</td>\n",
              "      <td>170023 2023</td>\n",
              "      <td>20:17:00</td>\n",
              "      <td>a noite</td>\n",
              "      <td>desconhecida</td>\n",
              "      <td>nao</td>\n",
              "      <td>NaN</td>\n",
              "      <td>rua rosa kasinski</td>\n",
              "      <td>1401</td>\n",
              "      <td>...</td>\n",
              "      <td>31</td>\n",
              "      <td>1</td>\n",
              "      <td>2023</td>\n",
              "      <td>31</td>\n",
              "      <td>1</td>\n",
              "      <td>2023</td>\n",
              "      <td>31</td>\n",
              "      <td>1</td>\n",
              "      <td>2023</td>\n",
              "      <td>23:07:03</td>\n",
              "    </tr>\n",
              "    <tr>\n",
              "      <th>12978</th>\n",
              "      <td>2023</td>\n",
              "      <td>982</td>\n",
              "      <td>982 2023</td>\n",
              "      <td>22:25:00</td>\n",
              "      <td>a noite</td>\n",
              "      <td>desconhecida</td>\n",
              "      <td>nao</td>\n",
              "      <td>NaN</td>\n",
              "      <td>rua oratorio</td>\n",
              "      <td>3019</td>\n",
              "      <td>...</td>\n",
              "      <td>31</td>\n",
              "      <td>1</td>\n",
              "      <td>2023</td>\n",
              "      <td>31</td>\n",
              "      <td>1</td>\n",
              "      <td>2023</td>\n",
              "      <td>31</td>\n",
              "      <td>1</td>\n",
              "      <td>2023</td>\n",
              "      <td>23:28:40</td>\n",
              "    </tr>\n",
              "    <tr>\n",
              "      <th>12980</th>\n",
              "      <td>2023</td>\n",
              "      <td>170223</td>\n",
              "      <td>170223 2023</td>\n",
              "      <td>19:55:00</td>\n",
              "      <td>a noite</td>\n",
              "      <td>desconhecida</td>\n",
              "      <td>nao</td>\n",
              "      <td>NaN</td>\n",
              "      <td>rua nicola cagliotti</td>\n",
              "      <td>249</td>\n",
              "      <td>...</td>\n",
              "      <td>31</td>\n",
              "      <td>1</td>\n",
              "      <td>2023</td>\n",
              "      <td>31</td>\n",
              "      <td>1</td>\n",
              "      <td>2023</td>\n",
              "      <td>31</td>\n",
              "      <td>1</td>\n",
              "      <td>2023</td>\n",
              "      <td>23:57:24</td>\n",
              "    </tr>\n",
              "  </tbody>\n",
              "</table>\n",
              "<p>2924 rows × 67 columns</p>\n",
              "</div>\n",
              "      <button class=\"colab-df-convert\" onclick=\"convertToInteractive('df-68dfaa45-ad44-46d4-b765-01e19c9b89f0')\"\n",
              "              title=\"Convert this dataframe to an interactive table.\"\n",
              "              style=\"display:none;\">\n",
              "        \n",
              "  <svg xmlns=\"http://www.w3.org/2000/svg\" height=\"24px\"viewBox=\"0 0 24 24\"\n",
              "       width=\"24px\">\n",
              "    <path d=\"M0 0h24v24H0V0z\" fill=\"none\"/>\n",
              "    <path d=\"M18.56 5.44l.94 2.06.94-2.06 2.06-.94-2.06-.94-.94-2.06-.94 2.06-2.06.94zm-11 1L8.5 8.5l.94-2.06 2.06-.94-2.06-.94L8.5 2.5l-.94 2.06-2.06.94zm10 10l.94 2.06.94-2.06 2.06-.94-2.06-.94-.94-2.06-.94 2.06-2.06.94z\"/><path d=\"M17.41 7.96l-1.37-1.37c-.4-.4-.92-.59-1.43-.59-.52 0-1.04.2-1.43.59L10.3 9.45l-7.72 7.72c-.78.78-.78 2.05 0 2.83L4 21.41c.39.39.9.59 1.41.59.51 0 1.02-.2 1.41-.59l7.78-7.78 2.81-2.81c.8-.78.8-2.07 0-2.86zM5.41 20L4 18.59l7.72-7.72 1.47 1.35L5.41 20z\"/>\n",
              "  </svg>\n",
              "      </button>\n",
              "      \n",
              "  <style>\n",
              "    .colab-df-container {\n",
              "      display:flex;\n",
              "      flex-wrap:wrap;\n",
              "      gap: 12px;\n",
              "    }\n",
              "\n",
              "    .colab-df-convert {\n",
              "      background-color: #E8F0FE;\n",
              "      border: none;\n",
              "      border-radius: 50%;\n",
              "      cursor: pointer;\n",
              "      display: none;\n",
              "      fill: #1967D2;\n",
              "      height: 32px;\n",
              "      padding: 0 0 0 0;\n",
              "      width: 32px;\n",
              "    }\n",
              "\n",
              "    .colab-df-convert:hover {\n",
              "      background-color: #E2EBFA;\n",
              "      box-shadow: 0px 1px 2px rgba(60, 64, 67, 0.3), 0px 1px 3px 1px rgba(60, 64, 67, 0.15);\n",
              "      fill: #174EA6;\n",
              "    }\n",
              "\n",
              "    [theme=dark] .colab-df-convert {\n",
              "      background-color: #3B4455;\n",
              "      fill: #D2E3FC;\n",
              "    }\n",
              "\n",
              "    [theme=dark] .colab-df-convert:hover {\n",
              "      background-color: #434B5C;\n",
              "      box-shadow: 0px 1px 3px 1px rgba(0, 0, 0, 0.15);\n",
              "      filter: drop-shadow(0px 1px 2px rgba(0, 0, 0, 0.3));\n",
              "      fill: #FFFFFF;\n",
              "    }\n",
              "  </style>\n",
              "\n",
              "      <script>\n",
              "        const buttonEl =\n",
              "          document.querySelector('#df-68dfaa45-ad44-46d4-b765-01e19c9b89f0 button.colab-df-convert');\n",
              "        buttonEl.style.display =\n",
              "          google.colab.kernel.accessAllowed ? 'block' : 'none';\n",
              "\n",
              "        async function convertToInteractive(key) {\n",
              "          const element = document.querySelector('#df-68dfaa45-ad44-46d4-b765-01e19c9b89f0');\n",
              "          const dataTable =\n",
              "            await google.colab.kernel.invokeFunction('convertToInteractive',\n",
              "                                                     [key], {});\n",
              "          if (!dataTable) return;\n",
              "\n",
              "          const docLinkHtml = 'Like what you see? Visit the ' +\n",
              "            '<a target=\"_blank\" href=https://colab.research.google.com/notebooks/data_table.ipynb>data table notebook</a>'\n",
              "            + ' to learn more about interactive tables.';\n",
              "          element.innerHTML = '';\n",
              "          dataTable['output_type'] = 'display_data';\n",
              "          await google.colab.output.renderOutput(dataTable, element);\n",
              "          const docLink = document.createElement('div');\n",
              "          docLink.innerHTML = docLinkHtml;\n",
              "          element.appendChild(docLink);\n",
              "        }\n",
              "      </script>\n",
              "    </div>\n",
              "  </div>\n",
              "  "
            ]
          },
          "metadata": {},
          "execution_count": 166
        }
      ]
    },
    {
      "cell_type": "markdown",
      "source": [
        "Plotando um gráfico de pizza que exibe a porcentagem de roubos de veículos por turno em São Paulo"
      ],
      "metadata": {
        "id": "9JewaYhD9NOn"
      }
    },
    {
      "cell_type": "code",
      "source": [
        "import matplotlib.pyplot as plt\n",
        "\n",
        "contadormanha = 0 ; contadormadrugada = 0; contadortarde = 0; contadornoite = 0; horaincerta = 0\n",
        "\n",
        "for key in df_roubo_veiculos.keys():\n",
        "  for turno in df_roubo_veiculos[key]['PERIDOOCORRENCIA']:\n",
        "    if 'manha' in turno:\n",
        "      contadormanha = contadormanha+1\n",
        "    elif 'madrugada' in turno:\n",
        "      contadormadrugada = contadormadrugada+1\n",
        "    elif 'tarde' in turno:\n",
        "      contadortarde = contadortarde+1\n",
        "    elif 'noite' in turno:\n",
        "      contadornoite = contadornoite+1\n",
        "    else:\n",
        "      horaincerta = horaincerta + 1\n",
        "  \n",
        "roubos_por_turno = [contadormadrugada, contadormanha, contadortarde, contadornoite, horaincerta]\n",
        "my_labels = 'Madrugada', 'Manhã', 'Tarde', 'Noite', 'Hora Incerta'\n",
        "plt.pie(roubos_por_turno, labels=my_labels, autopct='%1.1f%%', shadow=True)\n",
        "plt.title('Roubos de Veículos por Turno em SP')\n",
        "plt.axis('equal')\n",
        "plt.show()"
      ],
      "metadata": {
        "colab": {
          "base_uri": "https://localhost:8080/",
          "height": 267
        },
        "id": "mNRXfA79aqBl",
        "outputId": "4802633a-6053-4504-d53c-f8144cf2592d"
      },
      "execution_count": 167,
      "outputs": [
        {
          "output_type": "display_data",
          "data": {
            "text/plain": [
              "<Figure size 432x288 with 1 Axes>"
            ],
            "image/png": "[encoded data removed]"
          },
          "metadata": {}
        }
      ]
    },
    {
      "cell_type": "markdown",
      "source": [
        "Plotando um gráfico de barras que exibe a quantidade de BOs com autoria conhecida, desconhecida e ignorada entre os anos de 2021 e 2023 em São Paulo"
      ],
      "metadata": {
        "id": "wIPwD1R1-kLE"
      }
    },
    {
      "cell_type": "code",
      "source": [
        "import seaborn as sns\n",
        "\n",
        "autoria_bo = pd.Series()\n",
        "\n",
        "for key in df_roubo_veiculos.keys():\n",
        "  if autoria_bo.empty:\n",
        "    autoria_bo = df_roubo_veiculos[key].pivot_table(columns=['BO_AUTORIA'], aggfunc='size')\n",
        "  else:\n",
        "    autoria_bo = autoria_bo + df_roubo_veiculos[key].pivot_table(columns=['BO_AUTORIA'], aggfunc='size')\n",
        "\n",
        "data_bo = pd.DataFrame({'conhecida': autoria_bo['conhecida'], 'desconhecida':autoria_bo['desconhecida'], 'ignorada':autoria_bo['ignorado']}, index = [0,1,2])\n",
        "plt.figure(figsize = (6,6))\n",
        "plt.title('Autoria dos BOs em SP - [2021-2023]')\n",
        "plots = sns.barplot(data = data_bo)\n",
        "plt.ylabel('Número de BOs')\n",
        "for bar in plots.patches:\n",
        "  plots.annotate(format(bar.get_height(), '.0f'), (bar.get_x()+bar.get_width() / 2, bar.get_height()), ha = 'center', va= 'center', size = 12, xytext=(0,8), textcoords = 'offset points')\n",
        "plt.legend() \n"
      ],
      "metadata": {
        "colab": {
          "base_uri": "https://localhost:8080/",
          "height": 479
        },
        "id": "niX1MDnAu7TM",
        "outputId": "0b4cbccc-db5d-43b8-8670-012daa01e41f"
      },
      "execution_count": 168,
      "outputs": [
        {
          "output_type": "stream",
          "name": "stderr",
          "text": [
            "<ipython-input-168-7d7ba45722fe>:3: FutureWarning: The default dtype for empty Series will be 'object' instead of 'float64' in a future version. Specify a dtype explicitly to silence this warning.\n",
            "  autoria_bo = pd.Series()\n",
            "WARNING:matplotlib.legend:No artists with labels found to put in legend.  Note that artists whose label start with an underscore are ignored when legend() is called with no argument.\n"
          ]
        },
        {
          "output_type": "execute_result",
          "data": {
            "text/plain": [
              "<matplotlib.legend.Legend at 0x7f0ae69eebe0>"
            ]
          },
          "metadata": {},
          "execution_count": 168
        },
        {
          "output_type": "display_data",
          "data": {
            "text/plain": [
              "<Figure size 432x432 with 1 Axes>"
            ],
            "image/png": "[encoded data removed]"
          },
          "metadata": {
            "needs_background": "light"
          }
        }
      ]
    },
    {
      "cell_type": "markdown",
      "source": [
        "Plotando um gráfico de barras que exibe a quantidade de BOs feitos em São Paulo por ano entre os anos de 2021 e 2023"
      ],
      "metadata": {
        "id": "-5OpBrUk_Bnz"
      }
    },
    {
      "cell_type": "code",
      "source": [
        "import seaborn as sns\n",
        "\n",
        "qtd_bo = pd.Series([0,0,0], index=[2021,2022,2023])\n",
        "\n",
        "for key in df_roubo_veiculos.keys():\n",
        "    qtd_bo = qtd_bo.add(df_roubo_veiculos[key].pivot_table(columns=['ANO_BO'], aggfunc='size'), fill_value=0)\n",
        "\n",
        "data_qtd_bo = pd.DataFrame({2023: qtd_bo[2023], 2022: qtd_bo[2022], 2021: qtd_bo[2021]}, index = [0,1,2])\n",
        "plt.figure(figsize = (6,6))\n",
        "plt.title('Quantidade de BOs feitos por ano em SP')\n",
        "plots2 = sns.barplot(data = data_qtd_bo)\n",
        "plt.ylabel('Número de BOs')\n",
        "for bar in plots2.patches:\n",
        "  plots2.annotate(format(bar.get_height(), '.0f'), (bar.get_x()+bar.get_width() / 2, bar.get_height()), ha = 'center', va= 'center', size = 12, xytext=(0,8), textcoords = 'offset points')\n",
        "plt.legend() \n"
      ],
      "metadata": {
        "colab": {
          "base_uri": "https://localhost:8080/",
          "height": 445
        },
        "id": "ynL6eEGwwIUz",
        "outputId": "f57ab43e-0f5f-4271-e593-9dcee1f3a5b5"
      },
      "execution_count": 169,
      "outputs": [
        {
          "output_type": "stream",
          "name": "stderr",
          "text": [
            "WARNING:matplotlib.legend:No artists with labels found to put in legend.  Note that artists whose label start with an underscore are ignored when legend() is called with no argument.\n"
          ]
        },
        {
          "output_type": "execute_result",
          "data": {
            "text/plain": [
              "<matplotlib.legend.Legend at 0x7f0ae71fd8b0>"
            ]
          },
          "metadata": {},
          "execution_count": 169
        },
        {
          "output_type": "display_data",
          "data": {
            "text/plain": [
              "<Figure size 432x432 with 1 Axes>"
            ],
            "image/png": "[encoded data removed]"
          },
          "metadata": {
            "needs_background": "light"
          }
        }
      ]
    }
  ]
}