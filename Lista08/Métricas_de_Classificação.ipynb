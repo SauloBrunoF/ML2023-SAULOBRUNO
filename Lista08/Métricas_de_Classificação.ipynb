{
  "nbformat": 4,
  "nbformat_minor": 0,
  "metadata": {
    "colab": {
      "provenance": []
    },
    "kernelspec": {
      "name": "python3",
      "display_name": "Python 3"
    },
    "language_info": {
      "name": "python"
    }
  },
  "cells": [
    {
      "cell_type": "code",
      "execution_count": null,
      "metadata": {
        "id": "HXcG-1Yzb4Ev"
      },
      "outputs": [],
      "source": [
        "from sklearn import datasets\n",
        "from sklearn.model_selection import train_test_split"
      ]
    },
    {
      "cell_type": "code",
      "source": [
        " X, y = datasets.load_iris(return_X_y=True)"
      ],
      "metadata": {
        "id": "n_dxJ6vlcDjq"
      },
      "execution_count": null,
      "outputs": []
    },
    {
      "cell_type": "code",
      "source": [
        "iris_data = datasets.load_iris()"
      ],
      "metadata": {
        "id": "S3W6WZmOPKtb"
      },
      "execution_count": null,
      "outputs": []
    },
    {
      "cell_type": "code",
      "source": [
        "X_train, X_test, y_train, y_test = train_test_split(X, y, test_size=0.9, stratify = y, random_state=42)"
      ],
      "metadata": {
        "id": "SrnZrP33cOks"
      },
      "execution_count": null,
      "outputs": []
    },
    {
      "cell_type": "code",
      "source": [
        "from sklearn.preprocessing import MinMaxScaler\n",
        "scaler = MinMaxScaler()\n",
        "X_train_scaled = scaler.fit_transform(X_train)\n",
        "X_test_scaled = scaler.transform(X_test)"
      ],
      "metadata": {
        "id": "u4vZ_2GDc9_E"
      },
      "execution_count": null,
      "outputs": []
    },
    {
      "cell_type": "code",
      "source": [
        "from sklearn.linear_model import LogisticRegression"
      ],
      "metadata": {
        "id": "aWYE5Lf4fTwa"
      },
      "execution_count": null,
      "outputs": []
    },
    {
      "cell_type": "code",
      "source": [
        "lr = LogisticRegression(random_state=0).fit(X_train_scaled, y_train)"
      ],
      "metadata": {
        "id": "IotbYXzyfaCF"
      },
      "execution_count": null,
      "outputs": []
    },
    {
      "cell_type": "code",
      "source": [
        "y_predict = lr.predict(X_test_scaled)"
      ],
      "metadata": {
        "id": "ZQbVOSlsi86x"
      },
      "execution_count": null,
      "outputs": []
    },
    {
      "cell_type": "code",
      "source": [
        "from sklearn.metrics import confusion_matrix"
      ],
      "metadata": {
        "id": "4crzuucTii6H"
      },
      "execution_count": null,
      "outputs": []
    },
    {
      "cell_type": "code",
      "source": [
        "iris_data.target_names"
      ],
      "metadata": {
        "colab": {
          "base_uri": "https://localhost:8080/"
        },
        "id": "SI4YzEYoPoYE",
        "outputId": "4a7e6502-52df-4713-c03a-2c096bc2a68a"
      },
      "execution_count": null,
      "outputs": [
        {
          "output_type": "execute_result",
          "data": {
            "text/plain": [
              "array(['setosa', 'versicolor', 'virginica'], dtype='<U10')"
            ]
          },
          "metadata": {},
          "execution_count": 28
        }
      ]
    },
    {
      "cell_type": "code",
      "source": [
        "cm = confusion_matrix(y_test, y_predict)\n",
        "cm"
      ],
      "metadata": {
        "colab": {
          "base_uri": "https://localhost:8080/"
        },
        "id": "RVJ-_J0IjhJ8",
        "outputId": "b48d209c-4650-4065-b7a5-6d0872c05fe8"
      },
      "execution_count": null,
      "outputs": [
        {
          "output_type": "execute_result",
          "data": {
            "text/plain": [
              "array([[45,  0,  0],\n",
              "       [ 0, 29, 16],\n",
              "       [ 0,  2, 43]])"
            ]
          },
          "metadata": {},
          "execution_count": 32
        }
      ]
    },
    {
      "cell_type": "code",
      "source": [
        "import numpy as np\n",
        "def accuracy(cm):\n",
        "  i, j = cm.shape\n",
        "  pred_corretas= 0\n",
        "  for k in range(i):\n",
        "    for l in range(j):\n",
        "      if k == l:\n",
        "        pred_corretas += cm[k][l]\n",
        "  total = np.sum(cm)\n",
        "  accuracy = pred_corretas / total\n",
        "  return accuracy"
      ],
      "metadata": {
        "id": "ax7Be7UAj9hz"
      },
      "execution_count": null,
      "outputs": []
    },
    {
      "cell_type": "code",
      "source": [
        "print(accuracy(cm))"
      ],
      "metadata": {
        "colab": {
          "base_uri": "https://localhost:8080/"
        },
        "id": "vBP5JIPSmKJS",
        "outputId": "06ada3cf-a613-4028-dd1a-f83a62a2c925"
      },
      "execution_count": null,
      "outputs": [
        {
          "output_type": "stream",
          "name": "stdout",
          "text": [
            "0.8666666666666667\n"
          ]
        }
      ]
    },
    {
      "cell_type": "code",
      "source": [
        "import numpy as np\n",
        "\n",
        "def recall(cm):\n",
        "    i, j = cm.shape\n",
        "    pred_corretas = np.zeros(i)\n",
        "    total = np.zeros(i)\n",
        "    recall = np.zeros(i)\n",
        "    recall_ponderada = 0\n",
        "    support = 0\n",
        "    recalls = []\n",
        "\n",
        "    for k in range(i):\n",
        "        for l in range(j):\n",
        "            if k == l:\n",
        "                pred_corretas[k] += cm[k][l]\n",
        "            total[k] += cm[k][l]\n",
        "\n",
        "    for k in range(i):\n",
        "        recall[k] = pred_corretas[k] / total[k]\n",
        "        recalls.append(recall[k])\n",
        "        recall_ponderada += recall[k] * total[k]\n",
        "        support += total[k]\n",
        "\n",
        "    recall_ponderada = recall_ponderada / support\n",
        "    \n",
        "    return recalls, recall_ponderada\n"
      ],
      "metadata": {
        "id": "fpcSrX7CmOhY"
      },
      "execution_count": null,
      "outputs": []
    },
    {
      "cell_type": "code",
      "source": [
        "recalls, recall_ponderada = recall(cm)\n",
        "print(recalls)\n",
        "print(recall_ponderada)"
      ],
      "metadata": {
        "colab": {
          "base_uri": "https://localhost:8080/"
        },
        "id": "YgJ1SQelrjgK",
        "outputId": "0699f829-6ee1-4743-da8d-0df861ee7b9e"
      },
      "execution_count": null,
      "outputs": [
        {
          "output_type": "stream",
          "name": "stdout",
          "text": [
            "[1.0, 0.6444444444444445, 0.9555555555555556]\n",
            "0.8666666666666667\n"
          ]
        }
      ]
    },
    {
      "cell_type": "code",
      "source": [
        "import numpy as np\n",
        "\n",
        "def precision(cm):\n",
        "    i, j = cm.shape\n",
        "    pred_corretas = np.zeros(i)\n",
        "    total_precision = np.zeros(j)\n",
        "    precision = np.zeros(i)\n",
        "    precision_ponderada = 0\n",
        "    support_precision = np.zeros(i)\n",
        "    peso = 0\n",
        "    precisions = []\n",
        "\n",
        "    for k in range(i):\n",
        "        for l in range(j):\n",
        "            if k == l:\n",
        "                pred_corretas[k] += cm[k][l]\n",
        "            support_precision[k] += cm[k][l]\n",
        "\n",
        "    for l in range(j):\n",
        "        for k in range(i):\n",
        "            total_precision[l] += cm[k][l]\n",
        "\n",
        "    for k in range(i):    \n",
        "        precision[k] = pred_corretas[k] / total_precision[k]\n",
        "        precisions.append(precision[k])\n",
        "        precision_ponderada += precision[k] * support_precision[k]\n",
        "        peso += support_precision[k]\n",
        "\n",
        "    precision_ponderada = precision_ponderada / peso\n",
        "    \n",
        "    return precision, precision_ponderada\n"
      ],
      "metadata": {
        "id": "XsF8dVRSssI9"
      },
      "execution_count": null,
      "outputs": []
    },
    {
      "cell_type": "code",
      "source": [
        "precisions, precisao_ponderada = precision(cm)\n",
        "print(precisions)\n",
        "print(precisao_ponderada)"
      ],
      "metadata": {
        "colab": {
          "base_uri": "https://localhost:8080/"
        },
        "id": "YfPaC2wDt4xW",
        "outputId": "1eb26ce2-5aab-4f92-ae7e-ba688a65a61a"
      },
      "execution_count": null,
      "outputs": [
        {
          "output_type": "stream",
          "name": "stdout",
          "text": [
            "[1.         0.93548387 0.72881356]\n",
            "0.8880991434299251\n"
          ]
        }
      ]
    },
    {
      "cell_type": "code",
      "source": [
        "def f1_score(cm):\n",
        "  i, j = cm.shape\n",
        "  precisoes, precisao_ponderada = precision(cm)\n",
        "  recalls, recall_ponderada = recall(cm)\n",
        "  f1_measure = np.zeros(i)\n",
        "  support = np.zeros(i)\n",
        "  f1_measures = []\n",
        "  f1_measure_ponderada = 0.0\n",
        "  peso = 0\n",
        "  n = len(precisoes)\n",
        " \n",
        "  for k in range(i):\n",
        "        for l in range(j):\n",
        "            support[k] += cm[k][l]\n",
        "  for k in range(n):\n",
        "    f1_measure[k] = 2 * (precisoes[k] * recalls[k]) / (precisoes[k] + recalls[k])\n",
        "    f1_measures.append(f1_measure[k])\n",
        "    f1_measure_ponderada += f1_measure[k] * support[k]\n",
        "    peso += support[k]\n",
        "\n",
        "  f1_measure_ponderada = f1_measure_ponderada / peso\n",
        "\n",
        "  return f1_measures, f1_measure_ponderada"
      ],
      "metadata": {
        "id": "6cxEnvd1JSc-"
      },
      "execution_count": null,
      "outputs": []
    },
    {
      "cell_type": "code",
      "source": [
        "f1_measures, f1_measure_ponderada = f1_score(cm)\n",
        "print(f1_measures)\n",
        "print(f1_measure_ponderada)"
      ],
      "metadata": {
        "colab": {
          "base_uri": "https://localhost:8080/"
        },
        "id": "sL8T9jTiLm8v",
        "outputId": "827c8283-fad0-4055-f56a-32df02c62f83"
      },
      "execution_count": null,
      "outputs": [
        {
          "output_type": "stream",
          "name": "stdout",
          "text": [
            "[1.0, 0.763157894736842, 0.8269230769230769]\n",
            "0.8633603238866395\n"
          ]
        }
      ]
    },
    {
      "cell_type": "code",
      "source": [
        "from sklearn.metrics import classification_report\n",
        "print(classification_report(y_test, y_predict, target_names = iris_data.target_names))"
      ],
      "metadata": {
        "colab": {
          "base_uri": "https://localhost:8080/"
        },
        "id": "pWzb5rLzqT_7",
        "outputId": "68290db3-80c2-4bbe-d7e3-404643066194"
      },
      "execution_count": null,
      "outputs": [
        {
          "output_type": "stream",
          "name": "stdout",
          "text": [
            "              precision    recall  f1-score   support\n",
            "\n",
            "      setosa       1.00      1.00      1.00        45\n",
            "  versicolor       0.94      0.64      0.76        45\n",
            "   virginica       0.73      0.96      0.83        45\n",
            "\n",
            "    accuracy                           0.87       135\n",
            "   macro avg       0.89      0.87      0.86       135\n",
            "weighted avg       0.89      0.87      0.86       135\n",
            "\n"
          ]
        }
      ]
    },
    {
      "cell_type": "code",
      "source": [
        "y_test_binary = (y_test == 2).astype(int)"
      ],
      "metadata": {
        "id": "Mx4fj5M7OaCu"
      },
      "execution_count": null,
      "outputs": []
    },
    {
      "cell_type": "code",
      "source": [
        "probs = lr.predict_proba(X_test_scaled)[:, 1]"
      ],
      "metadata": {
        "id": "6PjrdltKSAZ7"
      },
      "execution_count": null,
      "outputs": []
    },
    {
      "cell_type": "code",
      "source": [
        "from sklearn.metrics import roc_curve\n",
        "from sklearn.metrics import roc_auc_score\n",
        "import matplotlib.pyplot as plt"
      ],
      "metadata": {
        "id": "fIZdjlYETLuI"
      },
      "execution_count": null,
      "outputs": []
    },
    {
      "cell_type": "code",
      "source": [
        "fpr, tpr, _ = roc_curve(y_test_binary, probs)\n",
        "auc = roc_auc_score(y_test_binary, probs)"
      ],
      "metadata": {
        "id": "VNsLIT9NRxav"
      },
      "execution_count": null,
      "outputs": []
    },
    {
      "cell_type": "code",
      "source": [
        "plt.plot(fpr, tpr, label='ROC curve (area = %0.2f)' % auc)\n",
        "plt.plot([0, 1], [0, 1], 'k--')\n",
        "plt.xlim([0.0, 1.0])\n",
        "plt.ylim([0.0, 1.05])\n",
        "plt.xlabel('Taxa de Falsos Positivos')\n",
        "plt.ylabel('Taxa de Verdadeiros Positivos')\n",
        "plt.title('Curva ROC - Iris virginica vs (Setosa e Versicolor)')\n",
        "plt.legend(loc=\"lower right\")\n",
        "plt.show()"
      ],
      "metadata": {
        "colab": {
          "base_uri": "https://localhost:8080/",
          "height": 472
        },
        "id": "07OemBMaS2nA",
        "outputId": "123176f9-5bbd-49aa-b0ad-1269d5938e76"
      },
      "execution_count": null,
      "outputs": [
        {
          "output_type": "display_data",
          "data": {
            "text/plain": [
              "<Figure size 640x480 with 1 Axes>"
            ],
            "image/png": "[encoded data removed]"
          },
          "metadata": {}
        }
      ]
    }
  ]
}